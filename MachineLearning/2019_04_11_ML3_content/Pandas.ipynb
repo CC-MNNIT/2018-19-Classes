{
  "nbformat": 4,
  "nbformat_minor": 0,
  "metadata": {
    "colab": {
      "name": "Pandas.ipynb",
      "version": "0.3.2",
      "provenance": [],
      "collapsed_sections": [
        "0pC9jafvTQa8",
        "i0Vr746pZzqL",
        "1mWnFtuJckaU",
        "gQNyffTwtB15",
        "otSs0CiSBf8m",
        "6nt8FcJFBjfl",
        "WepUSwFTC8J1",
        "mHGUkvvqjo0b",
        "c9C5DhpgH7o3"
      ],
      "toc_visible": true,
      "include_colab_link": true
    },
    "kernelspec": {
      "name": "python3",
      "display_name": "Python 3"
    }
  },
  "cells": [
    {
      "cell_type": "markdown",
      "metadata": {
        "id": "view-in-github",
        "colab_type": "text"
      },
      "source": [
        "<a href=\"https://colab.research.google.com/github/CC-MNNIT/2018-19-Classes/blob/master/MachineLearning/2019_04_11_ML3_content/Pandas.ipynb\" target=\"_parent\"><img src=\"https://colab.research.google.com/assets/colab-badge.svg\" alt=\"Open In Colab\"/></a>"
      ]
    },
    {
      "metadata": {
        "id": "73lc-L-5RK26",
        "colab_type": "text"
      },
      "cell_type": "markdown",
      "source": [
        "#### Copyright 2019 MNNIT Computer Club."
      ]
    },
    {
      "metadata": {
        "id": "xiAG2ZFERMll",
        "colab_type": "code",
        "colab": {}
      },
      "cell_type": "code",
      "source": [
        "# Licensed under the Apache License, Version 2.0 (the \"License\");\n",
        "# you may not use this file except in compliance with the License.\n",
        "# You may obtain a copy of the License at\n",
        "#\n",
        "# https://www.apache.org/licenses/LICENSE-2.0\n",
        "#\n",
        "# Unless required by applicable law or agreed to in writing, software\n",
        "# distributed under the License is distributed on an \"AS IS\" BASIS,\n",
        "# WITHOUT WARRANTIES OR CONDITIONS OF ANY KIND, either express or implied.\n",
        "# See the License for the specific language governing permissions and\n",
        "# limitations under the License."
      ],
      "execution_count": 0,
      "outputs": []
    },
    {
      "metadata": {
        "id": "sM4wzLQcDM2a",
        "colab_type": "text"
      },
      "cell_type": "markdown",
      "source": [
        "# Pandas (Current Release : 0.23)"
      ]
    },
    {
      "metadata": {
        "id": "VJdSpMaCDQ0O",
        "colab_type": "text"
      },
      "cell_type": "markdown",
      "source": [
        "**Learning Objectives : **\n",
        "\n",
        "- What is Pandas, why do we need it ?\n",
        "- Basics of Pandas"
      ]
    },
    {
      "metadata": {
        "id": "bqnnaiG7DdcG",
        "colab_type": "text"
      },
      "cell_type": "markdown",
      "source": [
        "# What is Pandas ?\n",
        "\n",
        "- It is a python library/package which provides expressive **data structures** designed to make working with relational(tabular), labeled data easier.\n",
        "- It is build on top of numpy\n",
        "\n",
        "Think of pandas as MS Excel for python programmers.\n",
        "\n",
        "\n",
        "## It offers two main datastructures : \n",
        "1. **Series** : 1D labeled homogeneously-typed array\n",
        "2. **DataFrame** : General 2D labeled, size-mutable tabular structure with potentially heterogeneously-typed column\n",
        "\n",
        "Think of pandas DS as containers\n",
        "df is a container made of series containers.\n",
        "Series is a container made of scalars."
      ]
    },
    {
      "metadata": {
        "id": "F9ScdHStGjo2",
        "colab_type": "text"
      },
      "cell_type": "markdown",
      "source": [
        "# Why do we need pandas ?\n",
        "\n",
        "Actually you can do without pandas, but as the saying goes\n",
        "\n",
        "> \"Don't reinvent the wheel\"\n",
        "\n",
        "1. In a lot of problems the data is in a csv/tsv (a.k.a tabular) format or is brought to one if not.\n",
        "2. Numpy arrays must be homogeneous, Pandas columns need to be homogenous but not the whole dataframe.\n",
        "3. Has a lot of inbuilt functionalities which one might need to implement everytime they encounter a fairly common workflow"
      ]
    },
    {
      "metadata": {
        "id": "EbY9u04ZKj3Z",
        "colab_type": "text"
      },
      "cell_type": "markdown",
      "source": [
        "# When and When not to use pandas ?\n",
        "\n",
        "- Pandas is **good for large data(<100GB)**.\n",
        "- **Not for BIG data.**\n",
        "- Pandas is extremely efficient on small datasets(<1GB) and performance is rarely a concern.\n",
        "\n",
        "For big data there can be performance issues as pandas was not made for BIG data and the internal implementations might fail.\n"
      ]
    },
    {
      "metadata": {
        "id": "D1mm-rH9LJ4k",
        "colab_type": "text"
      },
      "cell_type": "markdown",
      "source": [
        "# Motivation to use\n",
        "\n",
        "An experience : large dataset required to reduce the memory usage to fit into local memory for analysis (even before reading the data set to a dataframe).\n",
        "\n",
        "- Pandas allows the csv file to be read in chunks, (eg. 1000 lines at a time)\n",
        "- then later on these chunks can be concatenated and the resulting dataframe fits the memory\n"
      ]
    },
    {
      "metadata": {
        "id": "18_TSMoTL38m",
        "colab_type": "text"
      },
      "cell_type": "markdown",
      "source": [
        "# Enough talk, show me the code"
      ]
    },
    {
      "metadata": {
        "id": "BzCyOEmdDPFP",
        "colab_type": "code",
        "colab": {}
      },
      "cell_type": "code",
      "source": [
        "import pandas as pd\n",
        "import numpy as np"
      ],
      "execution_count": 0,
      "outputs": []
    },
    {
      "metadata": {
        "id": "l9RZl_zpOKEN",
        "colab_type": "text"
      },
      "cell_type": "markdown",
      "source": [
        "# Pandas Series\n",
        "\n",
        "\n",
        "\n",
        "```python\n",
        "class pandas.Series(data=None, index=None, dtype=None, name=None, copy=False, fastpath=False)\n",
        "```\n",
        "\n",
        "> data can be :\n",
        "1. Python dictionary\n",
        "2. Python List\n",
        "3. Numpy array\n",
        "4. Scalar\n",
        "\n",
        "> [\"fastpath\" is an internal parameter, will probably be fixed in next release](https://github.com/pandas-dev/pandas/issues/6903)\n",
        "\n"
      ]
    },
    {
      "metadata": {
        "id": "P69Q-HqFOR71",
        "colab_type": "text"
      },
      "cell_type": "markdown",
      "source": [
        "## Creating a Series"
      ]
    },
    {
      "metadata": {
        "id": "SOWXVyIMOHyx",
        "colab_type": "code",
        "colab": {}
      },
      "cell_type": "code",
      "source": [
        "# Using python list\n",
        "pd.Series(['a','b','c'])"
      ],
      "execution_count": 0,
      "outputs": []
    },
    {
      "metadata": {
        "id": "2ZX7y1a7PXdd",
        "colab_type": "code",
        "colab": {}
      },
      "cell_type": "code",
      "source": [
        "# series can accomodate heterogeneous datatypes\n",
        "pd.Series(['a','b',4,1.414])"
      ],
      "execution_count": 0,
      "outputs": []
    },
    {
      "metadata": {
        "id": "XJKbbQq_NQxf",
        "colab_type": "code",
        "colab": {}
      },
      "cell_type": "code",
      "source": [
        "# Using numpy array\n",
        "pd.Series(np.array([1,2,3,4]))"
      ],
      "execution_count": 0,
      "outputs": []
    },
    {
      "metadata": {
        "id": "66Bv1azgQ9xs",
        "colab_type": "text"
      },
      "cell_type": "markdown",
      "source": [
        "### Indexing a Series\n",
        "\n",
        "- By default indices 0....len(data)-1 are assigned, as can be seen above\n",
        "- To set your own indices, use the parameter **index**\n",
        "- **Indices are also called labels**\n",
        "- Labels/indices  can appear to be same, but must have a unique hash during their existence"
      ]
    },
    {
      "metadata": {
        "id": "D6FqPYIQPjxu",
        "colab_type": "code",
        "colab": {}
      },
      "cell_type": "code",
      "source": [
        "pd.Series([180,72,\"DG\"],index=['Height','Weight','Name'])"
      ],
      "execution_count": 0,
      "outputs": []
    },
    {
      "metadata": {
        "id": "Nu1SGkM9Rgne",
        "colab_type": "code",
        "colab": {}
      },
      "cell_type": "code",
      "source": [
        "human = pd.Series({'Height' : 180, 'Weight' : 72, 'Name' : 'DG'})"
      ],
      "execution_count": 0,
      "outputs": []
    },
    {
      "metadata": {
        "id": "0pC9jafvTQa8",
        "colab_type": "text"
      },
      "cell_type": "markdown",
      "source": [
        "# Pandas DataFrame\n",
        "\n",
        "\n",
        "\n",
        "```python\n",
        "class pandas.DataFrame(data=None, index=None, columns=None, dtype=None, copy=False)\n",
        "```\n",
        "\n",
        "> **data** can be :\n",
        "- numpy ndarray (structured or homogeneous)\n",
        "- dict (values can be pandas Series, arrays constants, list like objects)\n",
        "- another pandas DataFrame\n",
        "\n",
        "> **index** : row labels\n",
        "\n",
        "> **columns** : column labels\n",
        "\n",
        "> A few points about DataFrame\n",
        "- Two-dimensional size-mutable, potentially heterogeneous tabular data structure with labeled axes (rows and columns). \n",
        "- **Arithmetic operations align on both row and column labels.**\n",
        "- Can be thought of as a dict-like container for Series objects.\n",
        "- Most used pandas datastructure\n"
      ]
    },
    {
      "metadata": {
        "id": "i0Vr746pZzqL",
        "colab_type": "text"
      },
      "cell_type": "markdown",
      "source": [
        "## Creating pandas DataFrame"
      ]
    },
    {
      "metadata": {
        "id": "d5ZBp9zZTUYQ",
        "colab_type": "code",
        "colab": {}
      },
      "cell_type": "code",
      "source": [
        "# from numpy array\n",
        "pd.DataFrame(np.array([[1,2],[3,4]]))"
      ],
      "execution_count": 0,
      "outputs": []
    },
    {
      "metadata": {
        "id": "pVbgc18rZsmJ",
        "colab_type": "code",
        "colab": {}
      },
      "cell_type": "code",
      "source": [
        "# from list\n",
        "pd.DataFrame([1,2,'hello','world'])"
      ],
      "execution_count": 0,
      "outputs": []
    },
    {
      "metadata": {
        "id": "F_sQp9PYY23w",
        "colab_type": "code",
        "colab": {}
      },
      "cell_type": "code",
      "source": [
        "# from dictionary\n",
        "df = pd.DataFrame({'Height':[180,178],'Weight':[72,70],'Name':['DG','AR']})\n",
        "df"
      ],
      "execution_count": 0,
      "outputs": []
    },
    {
      "metadata": {
        "id": "vf7xmJ6gZNqH",
        "colab_type": "code",
        "colab": {}
      },
      "cell_type": "code",
      "source": [
        "# pandas automatically handles datatypes, for each column\n",
        "# unlike numpy which would have forced all columns to be string objects in this case\n",
        "df.dtypes"
      ],
      "execution_count": 0,
      "outputs": []
    },
    {
      "metadata": {
        "id": "kfo6Up9sZWAy",
        "colab_type": "code",
        "colab": {}
      },
      "cell_type": "code",
      "source": [
        "# from a series\n",
        "pd.DataFrame(human)"
      ],
      "execution_count": 0,
      "outputs": []
    },
    {
      "metadata": {
        "id": "TbAghnPwGECu",
        "colab_type": "code",
        "colab": {}
      },
      "cell_type": "code",
      "source": [
        "# creates a replica of dataframe df\n",
        "duplicate_df = df.copy()"
      ],
      "execution_count": 0,
      "outputs": []
    },
    {
      "metadata": {
        "id": "1mWnFtuJckaU",
        "colab_type": "text"
      },
      "cell_type": "markdown",
      "source": [
        "## Creating a dataframe from dataset"
      ]
    },
    {
      "metadata": {
        "id": "JnKM8WxdgdKR",
        "colab_type": "code",
        "colab": {}
      },
      "cell_type": "code",
      "source": [
        "# downloading data\n",
        "!rm -rf datasets\n",
        "!mkdir -p datasets\n",
        "!wget -O datasets/data.csv https://raw.githubusercontent.com/uiuc-cse/data-fa14/gh-pages/data/iris.csv\n",
        "# !gunzip datasets/data.tsv.gz "
      ],
      "execution_count": 0,
      "outputs": []
    },
    {
      "metadata": {
        "id": "o0vLbZCHc3Ex",
        "colab_type": "code",
        "colab": {}
      },
      "cell_type": "code",
      "source": [
        "# see documentation for full set of parameters\n",
        "iris_data = pd.read_csv('datasets/data.csv',sep=',')"
      ],
      "execution_count": 0,
      "outputs": []
    },
    {
      "metadata": {
        "id": "g9mhMYXjeHwW",
        "colab_type": "code",
        "colab": {}
      },
      "cell_type": "code",
      "source": [
        "iris_data.head()"
      ],
      "execution_count": 0,
      "outputs": []
    },
    {
      "metadata": {
        "id": "m00TzJN-h4JK",
        "colab_type": "code",
        "colab": {}
      },
      "cell_type": "code",
      "source": [
        "iris_data['species'].describe()"
      ],
      "execution_count": 0,
      "outputs": []
    },
    {
      "metadata": {
        "id": "gQNyffTwtB15",
        "colab_type": "text"
      },
      "cell_type": "markdown",
      "source": [
        "## Selecting and Indexing a DataFrame\n",
        "\n",
        "Three main methods :\n",
        "\n",
        "1. .loc : location (primarily label based)\n",
        "2. .iloc : integer location\n",
        "3. [ ] : \n",
        "\n",
        "\n",
        "### **General Selection Syntax**\n",
        "\n",
        "```python\n",
        "df.loc[row-selector,column-selector]\n",
        "```\n",
        "\n",
        "Selectors can be : \n",
        "1. A label \n",
        "2. List/Numpy-Array of labels\n",
        "3. Label slice\n",
        "\n",
        "[pandas documentation about indexing](https://pandas.pydata.org/pandas-docs/stable/user_guide/indexing.html)"
      ]
    },
    {
      "metadata": {
        "id": "otSs0CiSBf8m",
        "colab_type": "text"
      },
      "cell_type": "markdown",
      "source": [
        "### .loc"
      ]
    },
    {
      "metadata": {
        "id": "Aqw_xjo6tF9Z",
        "colab_type": "code",
        "colab": {}
      },
      "cell_type": "code",
      "source": [
        "# rows with labels 0,1,2.....10, and the species column\n",
        "# 0:10 -> are row labels not the indices in a numerical sense\n",
        "\n",
        "iris_data.loc[0:10,'species']"
      ],
      "execution_count": 0,
      "outputs": []
    },
    {
      "metadata": {
        "id": "GjI8GF8Oz6jq",
        "colab_type": "code",
        "colab": {}
      },
      "cell_type": "code",
      "source": [
        "# rows with labels 10,90\n",
        "# columns with labels sepal_length, species\n",
        "\n",
        "iris_data.loc[np.array([10,90]),['sepal_length','species'] ]"
      ],
      "execution_count": 0,
      "outputs": []
    },
    {
      "metadata": {
        "id": "dWsk_kUjESm6",
        "colab_type": "code",
        "colab": {}
      },
      "cell_type": "code",
      "source": [
        "# label slices\n",
        "X_data = iris_data.loc[:,'sepal_length':'petal_width']\n",
        "y_data = iris_data.loc[:,'species']\n",
        "\n",
        "\n",
        "##### IMPORTANT #######\n",
        "# While using .loc and label slices(start:stop), both the start and stop label are inclusive\n",
        "# unlike regular python where stop is not included"
      ],
      "execution_count": 0,
      "outputs": []
    },
    {
      "metadata": {
        "id": "Zo7kUSw7FAQi",
        "colab_type": "code",
        "colab": {}
      },
      "cell_type": "code",
      "source": [
        "X_data.head()"
      ],
      "execution_count": 0,
      "outputs": []
    },
    {
      "metadata": {
        "id": "QcqWDOMRFA4-",
        "colab_type": "code",
        "colab": {}
      },
      "cell_type": "code",
      "source": [
        "y_data.head()"
      ],
      "execution_count": 0,
      "outputs": []
    },
    {
      "metadata": {
        "id": "6nt8FcJFBjfl",
        "colab_type": "text"
      },
      "cell_type": "markdown",
      "source": [
        "### .iloc"
      ]
    },
    {
      "metadata": {
        "id": "9Zf-2LGL1eio",
        "colab_type": "code",
        "colab": {}
      },
      "cell_type": "code",
      "source": [
        "iris_data.iloc[0:10]"
      ],
      "execution_count": 0,
      "outputs": []
    },
    {
      "metadata": {
        "id": "4kQIRblSBoWh",
        "colab_type": "code",
        "colab": {}
      },
      "cell_type": "code",
      "source": [
        "iris_data.iloc[0:10,0:1]\n",
        "# integer based selectors/slices.. .iloc won't take row,column label names "
      ],
      "execution_count": 0,
      "outputs": []
    },
    {
      "metadata": {
        "id": "WepUSwFTC8J1",
        "colab_type": "text"
      },
      "cell_type": "markdown",
      "source": [
        "### [ ] "
      ]
    },
    {
      "metadata": {
        "id": "0bSE0yJQBy2h",
        "colab_type": "code",
        "colab": {}
      },
      "cell_type": "code",
      "source": [
        "# [ ] selects columns\n",
        "iris_data['species']"
      ],
      "execution_count": 0,
      "outputs": []
    },
    {
      "metadata": {
        "id": "uzHeBvn4C_OT",
        "colab_type": "code",
        "colab": {}
      },
      "cell_type": "code",
      "source": [
        "# multiple columns are selected by passing a list containing \n",
        "my_columns = ['species','sepal_length']\n",
        "iris_data[my_columns]\n",
        "\n",
        "# the above is equivalent to the following:\n",
        "# iris_data[ ['species','sepal_length'] ]"
      ],
      "execution_count": 0,
      "outputs": []
    },
    {
      "metadata": {
        "id": "A57TnsnrDq7R",
        "colab_type": "text"
      },
      "cell_type": "markdown",
      "source": [
        "### Important point about selectors:\n",
        "\n",
        "```python\n",
        "iris_data[['species','sepal_length']]\n",
        "```\n",
        "is not the same as\n",
        "```python\n",
        "iris_data[['sepal_length','species']]\n",
        "```\n",
        "\n",
        "**ORDER MATTERS!!**"
      ]
    },
    {
      "metadata": {
        "id": "tTruV_2OHjkI",
        "colab_type": "text"
      },
      "cell_type": "markdown",
      "source": [
        "### TODO\n",
        "\n",
        "1. at()\n",
        "2. iat()"
      ]
    },
    {
      "metadata": {
        "id": "mHGUkvvqjo0b",
        "colab_type": "text"
      },
      "cell_type": "markdown",
      "source": [
        "## Modifying a Dataframe"
      ]
    },
    {
      "metadata": {
        "id": "KPn3Yhm2jvL2",
        "colab_type": "code",
        "colab": {}
      },
      "cell_type": "code",
      "source": [
        "# most common way is to use apply method and use a lambda function to modify the column\n",
        "iris_data['petal_width'].apply(lambda x : x*10)"
      ],
      "execution_count": 0,
      "outputs": []
    },
    {
      "metadata": {
        "id": "vSpd5eiSnk69",
        "colab_type": "code",
        "colab": {}
      },
      "cell_type": "code",
      "source": [
        "# we can also use replace method for a consistent replacement mapping\n",
        "mapping = {flower:idx for idx,flower in enumerate(iris_data.species.unique())}\n",
        "iris_data['species'].replace(mapping)"
      ],
      "execution_count": 0,
      "outputs": []
    },
    {
      "metadata": {
        "id": "jKmoNZoJlRHu",
        "colab_type": "code",
        "colab": {}
      },
      "cell_type": "code",
      "source": [
        "# changing datatype of a column\n",
        "iris_data['species'].astype('category')"
      ],
      "execution_count": 0,
      "outputs": []
    },
    {
      "metadata": {
        "id": "Tmb7EiJgqEkR",
        "colab_type": "code",
        "colab": {}
      },
      "cell_type": "code",
      "source": [
        "iris_data"
      ],
      "execution_count": 0,
      "outputs": []
    },
    {
      "metadata": {
        "id": "jIDQJaDimVKS",
        "colab_type": "text"
      },
      "cell_type": "markdown",
      "source": [
        "**Pandas also has a very powerful text manipulation tools under the *str* attribute of the dataframe. Do check it for text data/column**\n",
        "\n",
        "[Working with text Data in Pandas](https://pandas.pydata.org/pandas-docs/stable/user_guide/text.html)"
      ]
    },
    {
      "metadata": {
        "id": "c9C5DhpgH7o3",
        "colab_type": "text"
      },
      "cell_type": "markdown",
      "source": [
        "# Data Exploration, Statistics tools"
      ]
    },
    {
      "metadata": {
        "id": "m7_F7hj-qLg2",
        "colab_type": "code",
        "colab": {}
      },
      "cell_type": "code",
      "source": [
        "iris_data.head(25)"
      ],
      "execution_count": 0,
      "outputs": []
    },
    {
      "metadata": {
        "id": "NL8BVCrPqRAh",
        "colab_type": "code",
        "colab": {}
      },
      "cell_type": "code",
      "source": [
        "iris_data.tail(7)"
      ],
      "execution_count": 0,
      "outputs": []
    },
    {
      "metadata": {
        "id": "R9WKceCTIBjR",
        "colab_type": "code",
        "colab": {}
      },
      "cell_type": "code",
      "source": [
        "iris_data.describe()"
      ],
      "execution_count": 0,
      "outputs": []
    },
    {
      "metadata": {
        "id": "8-c8_G2XILIo",
        "colab_type": "code",
        "colab": {}
      },
      "cell_type": "code",
      "source": [
        "iris_data.info()"
      ],
      "execution_count": 0,
      "outputs": []
    },
    {
      "metadata": {
        "id": "jAk7_vtsIMzD",
        "colab_type": "code",
        "colab": {}
      },
      "cell_type": "code",
      "source": [
        "# can also be applied on sub part of a dataframe\n",
        "iris_data.mean()\n",
        "\n",
        "# iris_data.median()\n",
        "# iris_data.std()\n",
        "# iris_data.mode()"
      ],
      "execution_count": 0,
      "outputs": []
    },
    {
      "metadata": {
        "id": "eSmtq9qZIPLD",
        "colab_type": "code",
        "colab": {}
      },
      "cell_type": "code",
      "source": [
        "# gives mean of sepal_length of first 11 entries\n",
        "iris_data.loc[0:10,'sepal_length'].mean()"
      ],
      "execution_count": 0,
      "outputs": []
    },
    {
      "metadata": {
        "id": "dzsSDYXFIaQU",
        "colab_type": "code",
        "colab": {}
      },
      "cell_type": "code",
      "source": [
        "iris_data.median()"
      ],
      "execution_count": 0,
      "outputs": []
    },
    {
      "metadata": {
        "id": "fEB9qLnwJe94",
        "colab_type": "text"
      },
      "cell_type": "markdown",
      "source": [
        "# Exporting a pandas dataframe/series"
      ]
    },
    {
      "metadata": {
        "id": "1e65HL40Ju7A",
        "colab_type": "code",
        "colab": {}
      },
      "cell_type": "code",
      "source": [
        "# returns a numpy array\n",
        "# the following is going to be deprecated in 0.24\n",
        "# https://pandas.pydata.org/pandas-docs/stable/reference/api/pandas.DataFrame.values.html#pandas.DataFrame.values\n",
        "# will be replaced by\n",
        "# iris_data.to_numpy()\n",
        "\n",
        "iris_data.values"
      ],
      "execution_count": 0,
      "outputs": []
    },
    {
      "metadata": {
        "id": "pCuMh212JiQq",
        "colab_type": "code",
        "colab": {}
      },
      "cell_type": "code",
      "source": [
        "# index = False ensures that indices are not written to the csv file\n",
        "iris_data.to_csv('datasets/fromDataFrame.csv',sep=',',encoding='utf-8', index=False)"
      ],
      "execution_count": 0,
      "outputs": []
    },
    {
      "metadata": {
        "id": "HYMBeuhsqj7D",
        "colab_type": "text"
      },
      "cell_type": "markdown",
      "source": [
        "# Try this yourself (Home Assignment ;-) )\n",
        "\n",
        "1. Concatenating two dataframes along axis=0, axis=1\n",
        "2. Appending a row to dataframe"
      ]
    },
    {
      "metadata": {
        "id": "Q5Bo0Sahq7N0",
        "colab_type": "text"
      },
      "cell_type": "markdown",
      "source": [
        "---\n",
        "\n",
        "Authored By [Dipunj Gupta](https://github.com/dipunj) | Report errors/typos as github issues.\n",
        "\n",
        "---"
      ]
    }
  ]
}