{
 "cells": [
  {
   "cell_type": "markdown",
   "metadata": {
    "colab_type": "text",
    "id": "view-in-github"
   },
   "source": [
    "<a href=\"https://colab.research.google.com/github/CC-MNNIT/2018-19-Classes/blob/master/MachineLearning/2019_04_11_ML3_content/matplotlib.ipynb\" target=\"_parent\"><img src=\"https://colab.research.google.com/assets/colab-badge.svg\" alt=\"Open In Colab\"/></a>"
   ]
  },
  {
   "cell_type": "markdown",
   "metadata": {
    "colab_type": "text",
    "id": "7-6IaX3QRAiA"
   },
   "source": [
    "#### Copyright 2019 MNNIT Computer Club."
   ]
  },
  {
   "cell_type": "code",
   "execution_count": 0,
   "metadata": {
    "colab": {},
    "colab_type": "code",
    "id": "bO8xjbsYRECT"
   },
   "outputs": [],
   "source": [
    "# Licensed under the Apache License, Version 2.0 (the \"License\");\n",
    "# you may not use this file except in compliance with the License.\n",
    "# You may obtain a copy of the License at\n",
    "#\n",
    "# https://www.apache.org/licenses/LICENSE-2.0\n",
    "#\n",
    "# Unless required by applicable law or agreed to in writing, software\n",
    "# distributed under the License is distributed on an \"AS IS\" BASIS,\n",
    "# WITHOUT WARRANTIES OR CONDITIONS OF ANY KIND, either express or implied.\n",
    "# See the License for the specific language governing permissions and\n",
    "# limitations under the License."
   ]
  },
  {
   "cell_type": "markdown",
   "metadata": {
    "colab_type": "text",
    "id": "7pjcpBT0JMfq"
   },
   "source": [
    "# Matplotlib 3.0\n",
    "\n",
    "Plotting with matplotlib can is facilitated via the following APIs:\n",
    "\n",
    "1. pyplot API : used for simple plotting.\n",
    "2. Object-oriented API : used for more complex plotting cases.\n",
    "3. pylab API (deprecated)"
   ]
  },
  {
   "cell_type": "markdown",
   "metadata": {
    "colab_type": "text",
    "id": "lTgx5rPFZ9K0"
   },
   "source": [
    "**Simple Example**"
   ]
  },
  {
   "cell_type": "code",
   "execution_count": 0,
   "metadata": {
    "colab": {},
    "colab_type": "code",
    "id": "iIFMD83hK6w6"
   },
   "outputs": [],
   "source": [
    "import numpy as np\n",
    "import matplotlib.pyplot as plt\n",
    "\n",
    "%matplotlib inline\n",
    "\n",
    "# for mac users\n",
    "%config InlineBackend.figure_format = 'retina'\n",
    "plt.style.use('fast')"
   ]
  },
  {
   "cell_type": "code",
   "execution_count": 0,
   "metadata": {
    "colab": {},
    "colab_type": "code",
    "id": "gk9cZU-bsRKB"
   },
   "outputs": [],
   "source": [
    "x = np.arange(0, 5, 0.1)\n",
    "y = np.sin(x)\n",
    "plt.plot(x, y, label=\"sin(x)\")\n",
    "plt.xlabel(\"This is the label for x axis\")\n",
    "plt.ylabel(\"This is the label for y axis\")\n",
    "plt.legend()\n",
    "plt.show()"
   ]
  },
  {
   "cell_type": "markdown",
   "metadata": {
    "colab_type": "text",
    "id": "tUOUoN25rMMm"
   },
   "source": [
    "# pyplot API"
   ]
  },
  {
   "cell_type": "markdown",
   "metadata": {
    "colab_type": "text",
    "id": "wP0M4WCPV5_A"
   },
   "source": [
    "## Plotting with plt.plot()\n",
    "\n"
   ]
  },
  {
   "cell_type": "markdown",
   "metadata": {
    "colab_type": "text",
    "id": "KTRYQaZRWxly"
   },
   "source": [
    "- plt.plot() is very versatile\n",
    "\n",
    "- If you provide a single list or array, plot() assumes it is **a sequence of y values**, and automatically generates the x values for you.\n",
    "- Since python ranges start with 0, **the default x vector has the same length as y but starts with 0**. Hence the x data are [0,1,2,3].\n",
    "\n",
    "Use it for simple plotting cases"
   ]
  },
  {
   "cell_type": "code",
   "execution_count": 0,
   "metadata": {
    "colab": {},
    "colab_type": "code",
    "id": "lFfjAXjTWivQ"
   },
   "outputs": [],
   "source": [
    "# single array as an argument\n",
    "plt.plot([10,20,30,40],marker='o')\n",
    "plt.show()"
   ]
  },
  {
   "cell_type": "code",
   "execution_count": 0,
   "metadata": {
    "colab": {},
    "colab_type": "code",
    "id": "ZmDpJwRAYl0F"
   },
   "outputs": [],
   "source": [
    "# two arrays as argument\n",
    "plt.plot([1,2,3,4,5,6,7],[1,4,9,16,25,36,49],'go')\n",
    "plt.show()\n",
    "\n",
    "# go -\n",
    "# g -> green\n",
    "# o -> circles"
   ]
  },
  {
   "cell_type": "code",
   "execution_count": 0,
   "metadata": {
    "colab": {},
    "colab_type": "code",
    "id": "cMDH2VULZXTC"
   },
   "outputs": [],
   "source": [
    "# evenly sampled time at 200ms intervals\n",
    "t = np.arange(0, 1.2, 0.05)\n",
    "\n",
    "# MULTIPLE arrays as arguments (x1,y1,marker1,x2,y2,marker2....)\n",
    "plt.plot(t, t, 'r--', t, t**2, 'bo', t, t**3, 'g^')\n",
    "# red dashes, blue circle and green triangles\n",
    "\n",
    "plt.show()"
   ]
  },
  {
   "cell_type": "markdown",
   "metadata": {
    "colab_type": "text",
    "id": "Tbp6QyeFXBXr"
   },
   "source": [
    "# Object Oriented API (Important)\n",
    "\n",
    "Explictly create fig and axes objects to have further fine control of the properties of each and on how of these objects behaves\n",
    "\n",
    "Very powerful, used for more complex plotting cases"
   ]
  },
  {
   "cell_type": "markdown",
   "metadata": {
    "colab_type": "text",
    "id": "RekgIxMmRTdk"
   },
   "source": [
    "## Components of the resulting Diagram\n",
    "\n",
    "\n",
    "It is a matplotlib.Figure.figure object, which is rendered on your screen by some graphical engine\n",
    "\n",
    "\n",
    "![https://matplotlib.org/_images/anatomy.png](https://matplotlib.org/_images/anatomy.png)\n",
    "\n",
    "\n",
    "Any diagram outputed by matplotlib consists of:\n",
    "1. figure (matplotlib.Figure.figure)\n",
    "2. Axes\n",
    "3. Axis\n",
    "4. Artist"
   ]
  },
  {
   "cell_type": "markdown",
   "metadata": {
    "colab_type": "text",
    "id": "g-nwdkPwuHpA"
   },
   "source": [
    "### 1. figure (matplotlib.Figure.figure)\n",
    "\n",
    "- The figure keeps track of -\n",
    "     - all the child Axes\n",
    "     - some *special* artists (titles, figure legends, etc)\n",
    "     - and the canvas.\n",
    "- A figure can have any number of Axes, but to be useful should have at least one."
   ]
  },
  {
   "cell_type": "code",
   "execution_count": 0,
   "metadata": {
    "colab": {},
    "colab_type": "code",
    "id": "RKdI2EdcQeNl"
   },
   "outputs": [],
   "source": [
    "# create a figure object\n",
    "fig = plt.figure()  # an empty figure with no axes\n",
    "\n",
    "\n",
    "fig.suptitle('No axes on this figure')  # Add a title so we know which it is"
   ]
  },
  {
   "cell_type": "code",
   "execution_count": 0,
   "metadata": {
    "colab": {},
    "colab_type": "code",
    "id": "JaRi55oARO88"
   },
   "outputs": [],
   "source": [
    "fig, ax_lst = plt.subplots(2, 2)  # a figure with a 2x2 grid of Axes"
   ]
  },
  {
   "cell_type": "code",
   "execution_count": 0,
   "metadata": {
    "colab": {},
    "colab_type": "code",
    "id": "PRRYmoD_Rm1s"
   },
   "outputs": [],
   "source": [
    "fig"
   ]
  },
  {
   "cell_type": "markdown",
   "metadata": {
    "colab_type": "text",
    "id": "YzT33v_AT-X1"
   },
   "source": [
    "### 2. Axes\n",
    "\n",
    "- The Axes is the area on which the data is plotted with functions such as plot() and scatter() and that can have ticks, labels, etc. associated with it.\n",
    "- This explains why Figures can contain multiple Axes."
   ]
  },
  {
   "cell_type": "code",
   "execution_count": 0,
   "metadata": {
    "colab": {},
    "colab_type": "code",
    "id": "xu4_PcFdUE8x"
   },
   "outputs": [],
   "source": [
    "# In above example four areas hence -> four objects\n",
    "print(ax_lst)"
   ]
  },
  {
   "cell_type": "markdown",
   "metadata": {
    "colab_type": "text",
    "id": "d-Srqb0juUcj"
   },
   "source": [
    "### 3. Axis\n",
    "\n",
    "- These are the number-line-like objects.\n",
    "- They take care of setting the graph limits and generating the ticks (the marks on the axis) and ticklabels (strings labeling the ticks)."
   ]
  },
  {
   "cell_type": "code",
   "execution_count": 0,
   "metadata": {
    "colab": {},
    "colab_type": "code",
    "id": "nUY5123awxnB"
   },
   "outputs": [],
   "source": [
    "x = np.arange(0, 5, 0.1)\n",
    "y = np.sin(x)\n",
    "fig, ax = plt.subplots()\n",
    "ax.plot(x,y)\n",
    "\n",
    "ax.spines['bottom'].set_color('red')\n",
    "ax.spines['top'].set_color('black')\n",
    "ax.spines['right'].set_color('green')\n",
    "ax.spines['left'].set_color('blue')\n",
    "ax.tick_params(axis='x', colors='green')\n",
    "\n",
    "plt.show()"
   ]
  },
  {
   "cell_type": "markdown",
   "metadata": {
    "colab_type": "text",
    "id": "rv-S7pKOuWTc"
   },
   "source": [
    "### Difference between Axis, Axes (think objects)\n",
    "- **Axis** : take care of the data limits (the data limits can also be controlled/set via the set_xlim() and set_ylim() Axes methods).\n",
    "- **Axes** : contains two (or 3 in the case of 3D) **Axis objects**. Each Axes object has a title (set via set_title()), an x-label (set via set_xlabel()), and a y-label set via set_ylabel())."
   ]
  },
  {
   "cell_type": "markdown",
   "metadata": {
    "colab_type": "text",
    "id": "YmQWJF5mUy3Z"
   },
   "source": [
    "### 4. Artist"
   ]
  },
  {
   "cell_type": "markdown",
   "metadata": {
    "colab_type": "text",
    "id": "tTnKS1qvLt92"
   },
   "source": [
    "- Basically everything you can see on the figure is an artist (even the Figure, Axes, and Axis objects).\n",
    "- This includes Text objects, Line2D objects, collection objects, Patch objects ... (you get the idea).\n",
    "- **When the figure is rendered, all of the artists are drawn to the canvas.**\n",
    "- Most Artists are tied to an Axes; such an Artist cannot be shared by multiple Axes, or moved from."
   ]
  },
  {
   "cell_type": "markdown",
   "metadata": {
    "colab_type": "text",
    "id": "8W-lutm9WG0a"
   },
   "source": [
    "## Common Coding Style\n",
    "\n",
    "create a helper function to plot the data on a given axes\n"
   ]
  },
  {
   "cell_type": "code",
   "execution_count": 0,
   "metadata": {
    "colab": {},
    "colab_type": "code",
    "id": "NC2DTUmGYC7U"
   },
   "outputs": [],
   "source": [
    "def my_plotter(ax, data1, data2, param_dict):\n",
    "    \"\"\"\n",
    "    A helper function to make a graph\n",
    "\n",
    "    Parameters\n",
    "    ----------\n",
    "    ax : Axes\n",
    "        The axes to draw to\n",
    "    data1 : array\n",
    "       The x data\n",
    "    data2 : array\n",
    "       The y data\n",
    "    param_dict : dict\n",
    "       Dictionary of kwargs to pass to ax.plot\n",
    "\n",
    "    Returns\n",
    "    -------\n",
    "    out : list\n",
    "        list of artists added\n",
    "    \"\"\"\n",
    "    out = ax.plot(data1, data2, **param_dict)\n",
    "    return out\n",
    "\n",
    "# which you would then use as:\n",
    "\n",
    "data1, data2, data3, data4 = np.random.randn(4, 100)\n",
    "fig, ax = plt.subplots(1, 1)\n",
    "my_plotter(ax, data1, data2, {'marker': 'o'})"
   ]
  },
  {
   "cell_type": "code",
   "execution_count": 0,
   "metadata": {
    "colab": {},
    "colab_type": "code",
    "id": "ZC9Eo2HMYTVi"
   },
   "outputs": [],
   "source": [
    "fig, (ax1, ax2) = plt.subplots(1, 2)\n",
    "my_plotter(ax1, data1, data2, {'marker': 'x'})\n",
    "my_plotter(ax2, data3, data4, {'marker': 'o'})"
   ]
  },
  {
   "cell_type": "markdown",
   "metadata": {
    "colab_type": "text",
    "id": "QviB4iAkM0RA"
   },
   "source": [
    "# Subplots\n",
    "\n",
    "To plot multiple plots in the same figure, matplotlib provides a subplot method in the pyplot API, and add_subplot for the object oriented API.\n",
    "\n",
    "```pyplot.subplot()``` has various call signatures:\n",
    "- ```subplot(nrows, ncols, index, **kwargs)```\n",
    "- ```subplot(pos, **kwargs)```\n",
    "- ```subplot(ax)```\n",
    "---\n",
    "\n",
    "see also : pyplot.subplot, Figure.subplots, Figure.add_subplot\n",
    "\n",
    "---"
   ]
  },
  {
   "cell_type": "code",
   "execution_count": 0,
   "metadata": {
    "colab": {},
    "colab_type": "code",
    "id": "q_s5kZELM2VC"
   },
   "outputs": [],
   "source": [
    "t = np.arange(0.0, 2.0, 0.01)\n",
    "s1 = np.sin(2*np.pi*t)\n",
    "s2 = np.sin(4*np.pi*t)"
   ]
  },
  {
   "cell_type": "code",
   "execution_count": 0,
   "metadata": {
    "colab": {},
    "colab_type": "code",
    "id": "cDvwZ3u4Ql5w"
   },
   "outputs": [],
   "source": [
    "# switch to figure 1, if it doesn't exist, create it\n",
    "plt.figure(1)\n",
    "\n",
    "\n",
    "# 211 -> there are 2 rows, 1 column in the figure, create 1st subplot\n",
    "plt.subplot(211)\n",
    "plt.plot(t, s1)\n",
    "\n",
    "# 211 -> there are 2 rows, 1 column in the figure, create the 2nd subplot\n",
    "plt.subplot(212)\n",
    "plt.plot(t, 2*s1)\n",
    "plt.show()"
   ]
  },
  {
   "cell_type": "code",
   "execution_count": 0,
   "metadata": {
    "colab": {},
    "colab_type": "code",
    "id": "n2EVgy0bQrwl"
   },
   "outputs": [],
   "source": [
    "# switch to figure 2, if it doesn't exist, create\n",
    "plt.figure(2)\n",
    "plt.plot(t, s2)"
   ]
  },
  {
   "cell_type": "markdown",
   "metadata": {
    "colab_type": "text",
    "id": "NNfyal3UY3mL"
   },
   "source": [
    "# A few common plots using the pyplot API"
   ]
  },
  {
   "cell_type": "markdown",
   "metadata": {
    "colab_type": "text",
    "id": "64e70fomp8oj"
   },
   "source": [
    "## Histogram"
   ]
  },
  {
   "cell_type": "code",
   "execution_count": 0,
   "metadata": {
    "colab": {},
    "colab_type": "code",
    "id": "-_x3lopLp_fS"
   },
   "outputs": [],
   "source": [
    "data = np.random.randn(10000)\n",
    "n, bins, patches = plt.hist(data, 10, density=True)"
   ]
  },
  {
   "cell_type": "markdown",
   "metadata": {
    "colab_type": "text",
    "id": "_nmFdyskrBzz"
   },
   "source": [
    "## Scatter Plot\n",
    "\n"
   ]
  },
  {
   "cell_type": "code",
   "execution_count": 0,
   "metadata": {
    "colab": {},
    "colab_type": "code",
    "id": "3ry7BwNxrAR5"
   },
   "outputs": [],
   "source": [
    "N = 50\n",
    "x = np.random.rand(N)\n",
    "y = np.random.rand(N)\n",
    "\n",
    "# see the argument 'area' yourself.\n",
    "plt.scatter(x, y,c=np.random.rand(50))"
   ]
  },
  {
   "cell_type": "markdown",
   "metadata": {
    "colab_type": "text",
    "id": "M8cTEiSYfKnE"
   },
   "source": [
    "# Plotting images"
   ]
  },
  {
   "cell_type": "code",
   "execution_count": 0,
   "metadata": {
    "colab": {},
    "colab_type": "code",
    "id": "KcwTUPjRhNPL"
   },
   "outputs": [],
   "source": [
    "# To plot a single image\n",
    "\n",
    "# a 8x8 RGB image \n",
    "my_image = np.random.randint(0,255, size=(64,64,3))\n",
    "fig, ax = plt.subplots()\n",
    "ax.imshow(my_image)\n",
    "\n",
    "plt.show()"
   ]
  },
  {
   "cell_type": "code",
   "execution_count": 0,
   "metadata": {
    "colab": {},
    "colab_type": "code",
    "id": "ENfdE8NAe3GJ"
   },
   "outputs": [],
   "source": [
    "# let's assume you have the image in a numpy array\n",
    "\n",
    "# figsize determines what's the total number of rows of the display area the figure shall occupy\n",
    "# try changing the following numbers\n",
    "fig = plt.figure(figsize=(8,8))\n",
    "\n",
    "\n",
    "# 4*5 = 20 subplots\n",
    "columns = 4\n",
    "rows = 5\n",
    "\n",
    "for i in range(1, columns*rows + 1):\n",
    "\n",
    "    # dimensions of the randomly generated images -> 32*32 *3(channels - RGB)\n",
    "    img = np.random.randint(0,255, size=(32,32,3))\n",
    "    \n",
    "    ax = fig.add_subplot(rows,columns,i)\n",
    "    \n",
    "    # hide grid in the subplot\n",
    "    ax.grid(False)\n",
    "    \n",
    "    ## Hide axes ticks\n",
    "    ax.set_xticks([])\n",
    "    ax.set_yticks([])\n",
    "    \n",
    "    # plot the image\n",
    "    plt.imshow(img)\n",
    "\n",
    "plt.subplots_adjust(wspace=0)\n",
    "\n",
    "# finally, render the plot\n",
    "plt.show()"
   ]
  },
  {
   "cell_type": "markdown",
   "metadata": {
    "colab_type": "text",
    "id": "VzKSxpQhNZbu"
   },
   "source": [
    "Read more [here](https://matplotlib.org/users/image_tutorial.html) and [here](https://stackoverflow.com/questions/46615554/how-to-display-multiple-images-in-one-figure-correctly) \n",
    "\n",
    "It is best to use the object oriented API (fig, ax = plt.subplot() ) to do complex image plotting\n",
    "\n",
    "> This notebook is not exhaustive and you should certainly checkout the official documentation for full functionality of matplotlib. But I hope that this will give you a kickstart."
   ]
  },
  {
   "cell_type": "markdown",
   "metadata": {
    "colab_type": "text",
    "id": "VsA5EbSJObbf"
   },
   "source": [
    "---\n",
    "\n",
    "Authored By [Dipunj Gupta](https://github.com/dipunj) | Report errors/typos as github issues.\n",
    "\n",
    "---"
   ]
  }
 ],
 "metadata": {
  "colab": {
   "collapsed_sections": [],
   "include_colab_link": true,
   "name": "matplotlib.ipynb",
   "private_outputs": true,
   "provenance": [],
   "toc_visible": true,
   "version": "0.3.2"
  },
  "kernelspec": {
   "display_name": "Python 3",
   "language": "python",
   "name": "python3"
  },
  "language_info": {
   "codemirror_mode": {
    "name": "ipython",
    "version": 3
   },
   "file_extension": ".py",
   "mimetype": "text/x-python",
   "name": "python",
   "nbconvert_exporter": "python",
   "pygments_lexer": "ipython3",
   "version": "3.6.7"
  }
 },
 "nbformat": 4,
 "nbformat_minor": 1
}
