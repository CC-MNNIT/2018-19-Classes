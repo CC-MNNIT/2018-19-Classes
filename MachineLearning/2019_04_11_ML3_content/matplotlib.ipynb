{
  "nbformat": 4,
  "nbformat_minor": 0,
  "metadata": {
    "colab": {
      "name": "matplotlib.ipynb",
      "version": "0.3.2",
      "provenance": [],
      "private_outputs": true,
      "collapsed_sections": [],
      "toc_visible": true,
      "include_colab_link": true
    },
    "kernelspec": {
      "name": "python3",
      "display_name": "Python 3"
    }
  },
  "cells": [
    {
      "cell_type": "markdown",
      "metadata": {
        "id": "view-in-github",
        "colab_type": "text"
      },
      "source": [
        "<a href=\"https://colab.research.google.com/github/CC-MNNIT/2018-19-Classes/blob/master/MachineLearning/2019_04_11_ML3_content/matplotlib.ipynb\" target=\"_parent\"><img src=\"https://colab.research.google.com/assets/colab-badge.svg\" alt=\"Open In Colab\"/></a>"
      ]
    },
    {
      "metadata": {
        "id": "7-6IaX3QRAiA",
        "colab_type": "text"
      },
      "cell_type": "markdown",
      "source": [
        "#### Copyright 2019 MNNIT Computer Club."
      ]
    },
    {
      "metadata": {
        "id": "bO8xjbsYRECT",
        "colab_type": "code",
        "colab": {}
      },
      "cell_type": "code",
      "source": [
        "# Licensed under the Apache License, Version 2.0 (the \"License\");\n",
        "# you may not use this file except in compliance with the License.\n",
        "# You may obtain a copy of the License at\n",
        "#\n",
        "# https://www.apache.org/licenses/LICENSE-2.0\n",
        "#\n",
        "# Unless required by applicable law or agreed to in writing, software\n",
        "# distributed under the License is distributed on an \"AS IS\" BASIS,\n",
        "# WITHOUT WARRANTIES OR CONDITIONS OF ANY KIND, either express or implied.\n",
        "# See the License for the specific language governing permissions and\n",
        "# limitations under the License."
      ],
      "execution_count": 0,
      "outputs": []
    },
    {
      "metadata": {
        "id": "7pjcpBT0JMfq",
        "colab_type": "text"
      },
      "cell_type": "markdown",
      "source": [
        "# Matplotlib 3.0\n",
        "\n",
        "Plotting with matplotlib can is facilitated via the following APIs:\n",
        "\n",
        "1. pyplot API : used for simple plotting.\n",
        "2. Object-oriented API : used for more complex plotting cases.\n",
        "3. pylab API (deprecated)"
      ]
    },
    {
      "metadata": {
        "id": "lTgx5rPFZ9K0",
        "colab_type": "text"
      },
      "cell_type": "markdown",
      "source": [
        "**Simple Example**"
      ]
    },
    {
      "metadata": {
        "id": "iIFMD83hK6w6",
        "colab_type": "code",
        "colab": {}
      },
      "cell_type": "code",
      "source": [
        "import numpy as np\n",
        "import matplotlib.pyplot as plt\n",
        "\n",
        "%matplotlib inline\n",
        "\n",
        "# for mac users\n",
        "%config InlineBackend.figure_format = 'retina'\n",
        "plt.style.use('fast')"
      ],
      "execution_count": 0,
      "outputs": []
    },
    {
      "metadata": {
        "id": "gk9cZU-bsRKB",
        "colab_type": "code",
        "colab": {}
      },
      "cell_type": "code",
      "source": [
        "x = np.arange(0, 5, 0.1)\n",
        "y = np.sin(x)\n",
        "plt.plot(x, y, label=\"sin(x)\")\n",
        "plt.xlabel(\"This is the label for x axis\")\n",
        "plt.ylabel(\"This is the label for y axis\")\n",
        "plt.legend()\n",
        "plt.show()"
      ],
      "execution_count": 0,
      "outputs": []
    },
    {
      "metadata": {
        "id": "tUOUoN25rMMm",
        "colab_type": "text"
      },
      "cell_type": "markdown",
      "source": [
        "# pyplot API"
      ]
    },
    {
      "metadata": {
        "id": "wP0M4WCPV5_A",
        "colab_type": "text"
      },
      "cell_type": "markdown",
      "source": [
        "## Plotting with plt.plot()\n",
        "\n"
      ]
    },
    {
      "metadata": {
        "id": "KTRYQaZRWxly",
        "colab_type": "text"
      },
      "cell_type": "markdown",
      "source": [
        "- plt.plot() is very versatile\n",
        "\n",
        "- If you provide a single list or array, plot() assumes it is **a sequence of y values**, and automatically generates the x values for you.\n",
        "- Since python ranges start with 0, **the default x vector has the same length as y but starts with 0**. Hence the x data are [0,1,2,3].\n",
        "\n",
        "Use it for simple plotting cases"
      ]
    },
    {
      "metadata": {
        "id": "lFfjAXjTWivQ",
        "colab_type": "code",
        "colab": {}
      },
      "cell_type": "code",
      "source": [
        "# single array as an argument\n",
        "plt.plot([10,20,30,40],marker='o')\n",
        "plt.show()"
      ],
      "execution_count": 0,
      "outputs": []
    },
    {
      "metadata": {
        "id": "ZmDpJwRAYl0F",
        "colab_type": "code",
        "colab": {}
      },
      "cell_type": "code",
      "source": [
        "# two arrays as argument\n",
        "plt.plot([1,2,3,4,5,6,7],[1,4,9,16,25,36,49],'go')\n",
        "plt.show()\n",
        "\n",
        "# go -\n",
        "# g -> green\n",
        "# o -> circles"
      ],
      "execution_count": 0,
      "outputs": []
    },
    {
      "metadata": {
        "id": "cMDH2VULZXTC",
        "colab_type": "code",
        "colab": {}
      },
      "cell_type": "code",
      "source": [
        "# evenly sampled time at 200ms intervals\n",
        "t = np.arange(0, 1.2, 0.05)\n",
        "\n",
        "# MULTIPLE arrays as arguments (x1,y1,marker1,x2,y2,marker2....)\n",
        "plt.plot(t, t, 'r--', t, t**2, 'bo', t, t**3, 'g^')\n",
        "# red dashes, blue circle and green triangles\n",
        "\n",
        "plt.show()"
      ],
      "execution_count": 0,
      "outputs": []
    },
    {
      "metadata": {
        "id": "Tbp6QyeFXBXr",
        "colab_type": "text"
      },
      "cell_type": "markdown",
      "source": [
        "# Object Oriented API (Important)\n",
        "\n",
        "Explictly create fig and axes objects to have further fine control of the properties of each and on how of these objects behaves\n",
        "\n",
        "Very powerful, used for more complex plotting cases"
      ]
    },
    {
      "metadata": {
        "id": "RekgIxMmRTdk",
        "colab_type": "text"
      },
      "cell_type": "markdown",
      "source": [
        "## Components of the resulting Diagram\n",
        "\n",
        "\n",
        "It is a matplotlib.Figure.figure object, which is rendered on your screen by some graphical engine\n",
        "\n",
        "\n",
        "![https://matplotlib.org/_images/anatomy.png](https://matplotlib.org/_images/anatomy.png)\n",
        "\n",
        "\n",
        "Any diagram outputed by matplotlib consists of:\n",
        "1. figure (matplotlib.Figure.figure)\n",
        "2. Axes\n",
        "3. Axis\n",
        "4. Artist"
      ]
    },
    {
      "metadata": {
        "id": "g-nwdkPwuHpA",
        "colab_type": "text"
      },
      "cell_type": "markdown",
      "source": [
        "### 1. figure (matplotlib.Figure.figure)\n",
        "\n",
        "- The figure keeps track of -\n",
        "     - all the child Axes\n",
        "     - some *special* artists (titles, figure legends, etc)\n",
        "     - and the canvas.\n",
        "- A figure can have any number of Axes, but to be useful should have at least one."
      ]
    },
    {
      "metadata": {
        "id": "RKdI2EdcQeNl",
        "colab_type": "code",
        "colab": {}
      },
      "cell_type": "code",
      "source": [
        "# create a figure object\n",
        "fig = plt.figure()  # an empty figure with no axes\n",
        "\n",
        "\n",
        "fig.suptitle('No axes on this figure')  # Add a title so we know which it is"
      ],
      "execution_count": 0,
      "outputs": []
    },
    {
      "metadata": {
        "id": "JaRi55oARO88",
        "colab_type": "code",
        "colab": {}
      },
      "cell_type": "code",
      "source": [
        "fig, ax_lst = plt.subplots(2, 2)  # a figure with a 2x2 grid of Axes"
      ],
      "execution_count": 0,
      "outputs": []
    },
    {
      "metadata": {
        "id": "PRRYmoD_Rm1s",
        "colab_type": "code",
        "colab": {}
      },
      "cell_type": "code",
      "source": [
        "fig"
      ],
      "execution_count": 0,
      "outputs": []
    },
    {
      "metadata": {
        "id": "YzT33v_AT-X1",
        "colab_type": "text"
      },
      "cell_type": "markdown",
      "source": [
        "### 2. Axes\n",
        "\n",
        "- The Axes is the area on which the data is plotted with functions such as plot() and scatter() and that can have ticks, labels, etc. associated with it.\n",
        "- This explains why Figures can contain multiple Axes."
      ]
    },
    {
      "metadata": {
        "id": "xu4_PcFdUE8x",
        "colab_type": "code",
        "colab": {}
      },
      "cell_type": "code",
      "source": [
        "# In above example four areas hence -> four objects\n",
        "print(ax_lst)"
      ],
      "execution_count": 0,
      "outputs": []
    },
    {
      "metadata": {
        "id": "d-Srqb0juUcj",
        "colab_type": "text"
      },
      "cell_type": "markdown",
      "source": [
        "### 3. Axis\n",
        "\n",
        "- These are the number-line-like objects.\n",
        "- They take care of setting the graph limits and generating the ticks (the marks on the axis) and ticklabels (strings labeling the ticks)."
      ]
    },
    {
      "metadata": {
        "id": "nUY5123awxnB",
        "colab_type": "code",
        "colab": {}
      },
      "cell_type": "code",
      "source": [
        "x = np.arange(0, 5, 0.1)\n",
        "y = np.sin(x)\n",
        "fig, ax = plt.subplots()\n",
        "ax.plot(x,y)\n",
        "\n",
        "ax.spines['bottom'].set_color('red')\n",
        "ax.spines['top'].set_color('black')\n",
        "ax.spines['right'].set_color('green')\n",
        "ax.spines['left'].set_color('blue')\n",
        "ax.tick_params(axis='x', colors='green')\n",
        "\n",
        "plt.show()"
      ],
      "execution_count": 0,
      "outputs": []
    },
    {
      "metadata": {
        "id": "rv-S7pKOuWTc",
        "colab_type": "text"
      },
      "cell_type": "markdown",
      "source": [
        "### Difference between Axis, Axes (think objects)\n",
        "- **Axis** : take care of the data limits (the data limits can also be controlled/set via the set_xlim() and set_ylim() Axes methods).\n",
        "- **Axes** : contains two (or 3 in the case of 3D) **Axis objects**. Each Axes object has a title (set via set_title()), an x-label (set via set_xlabel()), and a y-label set via set_ylabel())."
      ]
    },
    {
      "metadata": {
        "id": "YmQWJF5mUy3Z",
        "colab_type": "text"
      },
      "cell_type": "markdown",
      "source": [
        "### 4. Artist"
      ]
    },
    {
      "metadata": {
        "id": "tTnKS1qvLt92",
        "colab_type": "text"
      },
      "cell_type": "markdown",
      "source": [
        "- Basically everything you can see on the figure is an artist (even the Figure, Axes, and Axis objects).\n",
        "- This includes Text objects, Line2D objects, collection objects, Patch objects ... (you get the idea).\n",
        "- **When the figure is rendered, all of the artists are drawn to the canvas.**\n",
        "- Most Artists are tied to an Axes; such an Artist cannot be shared by multiple Axes, or moved from."
      ]
    },
    {
      "metadata": {
        "id": "8W-lutm9WG0a",
        "colab_type": "text"
      },
      "cell_type": "markdown",
      "source": [
        "## Common Coding Style\n",
        "\n",
        "create a helper function to plot the data on a given axes\n"
      ]
    },
    {
      "metadata": {
        "id": "NC2DTUmGYC7U",
        "colab_type": "code",
        "colab": {}
      },
      "cell_type": "code",
      "source": [
        "def my_plotter(ax, data1, data2, param_dict):\n",
        "    \"\"\"\n",
        "    A helper function to make a graph\n",
        "\n",
        "    Parameters\n",
        "    ----------\n",
        "    ax : Axes\n",
        "        The axes to draw to\n",
        "    data1 : array\n",
        "       The x data\n",
        "    data2 : array\n",
        "       The y data\n",
        "    param_dict : dict\n",
        "       Dictionary of kwargs to pass to ax.plot\n",
        "\n",
        "    Returns\n",
        "    -------\n",
        "    out : list\n",
        "        list of artists added\n",
        "    \"\"\"\n",
        "    out = ax.plot(data1, data2, **param_dict)\n",
        "    return out\n",
        "\n",
        "# which you would then use as:\n",
        "\n",
        "data1, data2, data3, data4 = np.random.randn(4, 100)\n",
        "fig, ax = plt.subplots(1, 1)\n",
        "my_plotter(ax, data1, data2, {'marker': 'o'})"
      ],
      "execution_count": 0,
      "outputs": []
    },
    {
      "metadata": {
        "id": "ZC9Eo2HMYTVi",
        "colab_type": "code",
        "colab": {}
      },
      "cell_type": "code",
      "source": [
        "fig, (ax1, ax2) = plt.subplots(1, 2)\n",
        "my_plotter(ax1, data1, data2, {'marker': 'x'})\n",
        "my_plotter(ax2, data3, data4, {'marker': 'o'})"
      ],
      "execution_count": 0,
      "outputs": []
    },
    {
      "metadata": {
        "id": "QviB4iAkM0RA",
        "colab_type": "text"
      },
      "cell_type": "markdown",
      "source": [
        "# Subplots\n",
        "\n",
        "To plot multiple plots in the same figure, matplotlib provides a subplot method in the pyplot API, and add_subplot for the object oriented API.\n",
        "\n",
        "```pyplot.subplot()``` has various call signatures:\n",
        "- ```subplot(nrows, ncols, index, **kwargs)```\n",
        "- ```subplot(pos, **kwargs)```\n",
        "- ```subplot(ax)```\n",
        "---\n",
        "\n",
        "see also : pyplot.subplot, Figure.subplots, Figure.add_subplot\n",
        "\n",
        "---"
      ]
    },
    {
      "metadata": {
        "id": "q_s5kZELM2VC",
        "colab_type": "code",
        "colab": {}
      },
      "cell_type": "code",
      "source": [
        "t = np.arange(0.0, 2.0, 0.01)\n",
        "s1 = np.sin(2*np.pi*t)\n",
        "s2 = np.sin(4*np.pi*t)"
      ],
      "execution_count": 0,
      "outputs": []
    },
    {
      "metadata": {
        "id": "cDvwZ3u4Ql5w",
        "colab_type": "code",
        "colab": {}
      },
      "cell_type": "code",
      "source": [
        "# switch to figure 1, if it doesn't exist, create it\n",
        "plt.figure(1)\n",
        "\n",
        "\n",
        "# 211 -> there are 2 rows, 1 column in the figure, create 1st subplot\n",
        "plt.subplot(211)\n",
        "plt.plot(t, s1)\n",
        "\n",
        "# 211 -> there are 2 rows, 1 column in the figure, create the 2nd subplot\n",
        "plt.subplot(212)\n",
        "plt.plot(t, 2*s1)\n",
        "plt.show()"
      ],
      "execution_count": 0,
      "outputs": []
    },
    {
      "metadata": {
        "id": "n2EVgy0bQrwl",
        "colab_type": "code",
        "colab": {}
      },
      "cell_type": "code",
      "source": [
        "# switch to figure 2, if it doesn't exist, create\n",
        "plt.figure(2)\n",
        "plt.plot(t, s2)"
      ],
      "execution_count": 0,
      "outputs": []
    },
    {
      "metadata": {
        "id": "NNfyal3UY3mL",
        "colab_type": "text"
      },
      "cell_type": "markdown",
      "source": [
        "# A few common plots using the pyplot API"
      ]
    },
    {
      "metadata": {
        "id": "64e70fomp8oj",
        "colab_type": "text"
      },
      "cell_type": "markdown",
      "source": [
        "## Histogram"
      ]
    },
    {
      "metadata": {
        "id": "-_x3lopLp_fS",
        "colab_type": "code",
        "colab": {}
      },
      "cell_type": "code",
      "source": [
        "data = np.random.randn(10000)\n",
        "n, bins, patches = plt.hist(data, 10, density=True)"
      ],
      "execution_count": 0,
      "outputs": []
    },
    {
      "metadata": {
        "id": "_nmFdyskrBzz",
        "colab_type": "text"
      },
      "cell_type": "markdown",
      "source": [
        "## Scatter Plot\n",
        "\n"
      ]
    },
    {
      "metadata": {
        "id": "3ry7BwNxrAR5",
        "colab_type": "code",
        "colab": {}
      },
      "cell_type": "code",
      "source": [
        "N = 50\n",
        "x = np.random.rand(N)\n",
        "y = np.random.rand(N)\n",
        "\n",
        "# see the argument 'area' yourself.\n",
        "plt.scatter(x, y,c=np.random.rand(50))"
      ],
      "execution_count": 0,
      "outputs": []
    },
    {
      "metadata": {
        "id": "M8cTEiSYfKnE",
        "colab_type": "text"
      },
      "cell_type": "markdown",
      "source": [
        "# Plotting images"
      ]
    },
    {
      "metadata": {
        "id": "KcwTUPjRhNPL",
        "colab_type": "code",
        "colab": {}
      },
      "cell_type": "code",
      "source": [
        "# To plot a single image\n",
        "\n",
        "# a 8x8 RGB image \n",
        "my_image = np.random.randint(0,255, size=(64,64,3))\n",
        "fig, ax = plt.subplots()\n",
        "ax.imshow(my_image)\n",
        "\n",
        "plt.show()"
      ],
      "execution_count": 0,
      "outputs": []
    },
    {
      "metadata": {
        "id": "ENfdE8NAe3GJ",
        "colab_type": "code",
        "colab": {}
      },
      "cell_type": "code",
      "source": [
        "# let's assume you have the image in a numpy array\n",
        "\n",
        "# figsize determines what's the total number of rows of the display area the figure shall occupy\n",
        "# try changing the following numbers\n",
        "fig = plt.figure(figsize=(8,8))\n",
        "\n",
        "\n",
        "# 4*5 = 20 subplots\n",
        "columns = 4\n",
        "rows = 5\n",
        "\n",
        "for i in range(1, columns*rows + 1):\n",
        "\n",
        "    # dimensions of the randomly generated images -> 32*32 *3(channels - RGB)\n",
        "    img = np.random.randint(0,255, size=(32,32,3))\n",
        "    \n",
        "    ax = fig.add_subplot(rows,columns,i)\n",
        "    \n",
        "    # hide grid in the subplot\n",
        "    ax.grid(False)\n",
        "    \n",
        "    ## Hide axes ticks\n",
        "    ax.set_xticks([])\n",
        "    ax.set_yticks([])\n",
        "    \n",
        "    # plot the image\n",
        "    plt.imshow(img)\n",
        "\n",
        "plt.subplots_adjust(wspace=0)\n",
        "\n",
        "# finally, render the plot\n",
        "plt.show()"
      ],
      "execution_count": 0,
      "outputs": []
    },
    {
      "metadata": {
        "id": "VzKSxpQhNZbu",
        "colab_type": "text"
      },
      "cell_type": "markdown",
      "source": [
        "Read more [here](https://matplotlib.org/users/image_tutorial.html) and [here](https://stackoverflow.com/questions/46615554/how-to-display-multiple-images-in-one-figure-correctly) \n",
        "\n",
        "It is best to use the object oriented API (fig, ax = plt.subplot() ) to do complex image plotting\n",
        "\n",
        "> This notebook is not exhaustive and you should certainly checkout the official documentation for full functionality of matplotlib. But I hope that this will give you a kickstart."
      ]
    },
    {
      "metadata": {
        "id": "VsA5EbSJObbf",
        "colab_type": "text"
      },
      "cell_type": "markdown",
      "source": [
        "---\n",
        "\n",
        "<center>\n",
        "    Authored By [Dipunj Gupta](https://github.com/dipunj)\n",
        "</center>\n",
        "\n",
        "---\n",
        "Report errors/typos in github issues at the github repository"
      ]
    }
  ]
}