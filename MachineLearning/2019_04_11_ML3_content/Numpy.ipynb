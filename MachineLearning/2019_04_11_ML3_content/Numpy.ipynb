{
  "nbformat": 4,
  "nbformat_minor": 0,
  "metadata": {
    "colab": {
      "name": "Numpy.ipynb",
      "version": "0.3.2",
      "provenance": [],
      "private_outputs": true,
      "collapsed_sections": [
        "00RbUYmEBBxF",
        "-49HUMyAtm7N",
        "PCeQy09kv8c8",
        "CiBuw_9zwA7A",
        "ZLDe_2iS0V_B",
        "ktHTTr8wP-Zi",
        "zDAwPnheKgo3",
        "UDLLfBkOBrsv",
        "hguAKb8LsC6K",
        "zt5TR_2OTAUp",
        "J3Tozh3uOh6B",
        "wEb_RcPiSxs7",
        "UGagNX3-SmJT",
        "DSrsQaSXSqfB",
        "922nowcPSujV",
        "rklOlRxyOKYh",
        "XSpcD9hLTUvd",
        "IhLgZQPHTZxA",
        "bhAGTVOwTnwf",
        "-mczUgINUDHP",
        "aa1Szjpceu6c",
        "xDZQxL4kgMYU",
        "vRL4SQwdXtr5",
        "uxpQ3SuIV4-F",
        "4A7Y_N5lcVrZ",
        "MCXm14OccgHR",
        "bqZGzvuHklo9",
        "v8631h5bkI9R",
        "FvM7ZNvwWGKM",
        "KlGNhBwicl3O"
      ],
      "toc_visible": true,
      "include_colab_link": true
    },
    "kernelspec": {
      "name": "python3",
      "display_name": "Python 3"
    },
    "accelerator": "GPU"
  },
  "cells": [
    {
      "cell_type": "markdown",
      "metadata": {
        "id": "view-in-github",
        "colab_type": "text"
      },
      "source": [
        "<a href=\"https://colab.research.google.com/github/CC-MNNIT/2018-19-Classes/blob/master/MachineLearning/2019_04_11_ML3_content/Numpy.ipynb\" target=\"_parent\"><img src=\"https://colab.research.google.com/assets/colab-badge.svg\" alt=\"Open In Colab\"/></a>"
      ]
    },
    {
      "metadata": {
        "id": "Z47aqto1QNCR",
        "colab_type": "text"
      },
      "cell_type": "markdown",
      "source": [
        "#### Copyright 2019 MNNIT Computer Club."
      ]
    },
    {
      "metadata": {
        "id": "OU81yzl5QYq-",
        "colab_type": "code",
        "colab": {}
      },
      "cell_type": "code",
      "source": [
        "# Licensed under the Apache License, Version 2.0 (the \"License\");\n",
        "# you may not use this file except in compliance with the License.\n",
        "# You may obtain a copy of the License at\n",
        "#\n",
        "# https://www.apache.org/licenses/LICENSE-2.0\n",
        "#\n",
        "# Unless required by applicable law or agreed to in writing, software\n",
        "# distributed under the License is distributed on an \"AS IS\" BASIS,\n",
        "# WITHOUT WARRANTIES OR CONDITIONS OF ANY KIND, either express or implied.\n",
        "# See the License for the specific language governing permissions and\n",
        "# limitations under the License."
      ],
      "execution_count": 0,
      "outputs": []
    },
    {
      "metadata": {
        "id": "8kgU1OiR9G8L",
        "colab_type": "text"
      },
      "cell_type": "markdown",
      "source": [
        "# Numpy Concepts"
      ]
    },
    {
      "metadata": {
        "id": "UFoLwCTs9Uq1",
        "colab_type": "text"
      },
      "cell_type": "markdown",
      "source": [
        "**Learning Objectives:**\n",
        "   + Why NumPy?\n",
        "   + Learn the basics of Numpy Library, focusing on the following concepts:\n",
        "      - ndarray\n",
        "      - Vectorisation\n",
        "      - BLAS\n",
        "      - Basic Array Operations\n",
        "          - Finding Shape of array\n",
        "          - Extracting values\n",
        "          - Extracting Multiple values (Slicing)\n",
        "          - Reversing Array ::-1\n",
        "       - Arithmetic Operations\n",
        "       - Axis in context of array\n",
        "       - Concatenating two np arrays\n",
        "       - Matrix Mulitplication\n",
        "       - Broadcasting"
      ]
    },
    {
      "metadata": {
        "id": "eah7SI4qpCRE",
        "colab_type": "text"
      },
      "cell_type": "markdown",
      "source": [
        "# What is NumPy ?\n",
        "\n",
        "It is a low-level Python Library for **Numerical computing** (now available for some other language as well)"
      ]
    },
    {
      "metadata": {
        "id": "00RbUYmEBBxF",
        "colab_type": "text"
      },
      "cell_type": "markdown",
      "source": [
        "# Why NumPy exists?\n",
        "\n",
        "- It adds support for multidimensional array objects and LOT MORE STUFF, which python inherently doesn't have.\n",
        "- Python does have lists, but they are extremely inefficient for numerical computations.\n",
        "- NumPy is **extremely efficient for handling numerical data** and the calculations on them, when compared to pure python."
      ]
    },
    {
      "metadata": {
        "id": "Tj-xlXVxoOJE",
        "colab_type": "code",
        "colab": {}
      },
      "cell_type": "code",
      "source": [
        "import numpy as np\n",
        "\n",
        "# now the numpy package can be used via 'np'"
      ],
      "execution_count": 0,
      "outputs": []
    },
    {
      "metadata": {
        "id": "Ny-KN2ueEFXZ",
        "colab_type": "code",
        "colab": {}
      },
      "cell_type": "code",
      "source": [
        "# Creating a numpy array\n",
        "\n",
        "a = [1,2,3]\n",
        "np.array(a)"
      ],
      "execution_count": 0,
      "outputs": []
    },
    {
      "metadata": {
        "id": "-49HUMyAtm7N",
        "colab_type": "text"
      },
      "cell_type": "markdown",
      "source": [
        "## The inefficiencies of Python\n",
        "\n",
        "1. Lists take up a lot of space, as they allow heterogenity\n",
        "2. The for loop can be made faster, since we know that all our data is numeric.\n",
        "3. As the default for loop is much more complex which, although, allows it to handle bizzare datatypes\n",
        "4. However in most data science applications, datatype is float or int. Then why use such a complex implementation for such an easy task ?"
      ]
    },
    {
      "metadata": {
        "id": "VPwc2TIsC1uJ",
        "colab_type": "code",
        "colab": {}
      },
      "cell_type": "code",
      "source": [
        "# list can be heterogeneous (advantage of lists)\n",
        "this_list = [\"MNNIT\", \"CC\", 100.0, [\"ML\",(\"March\",2019)]]"
      ],
      "execution_count": 0,
      "outputs": []
    },
    {
      "metadata": {
        "id": "a_zYD1g3Dlta",
        "colab_type": "code",
        "colab": {}
      },
      "cell_type": "code",
      "source": [
        "# Numpy arrays are homogeneous\n",
        "np.array([1,2,3,4])\n",
        "np.array([\"hello\",\"world\",\"MNNIT\",\"CC\"])\n",
        "\n",
        "# following is not allowed\n",
        "np.array([1,2,\"hello\"])\n",
        "\n",
        "# numpy treated all the entries as strings"
      ],
      "execution_count": 0,
      "outputs": []
    },
    {
      "metadata": {
        "id": "_mUlK1BDDzJN",
        "colab_type": "code",
        "colab": {}
      },
      "cell_type": "code",
      "source": [
        "# But check this is out\n",
        "np.array([1,2,\"hello\"],dtype=np.int32)"
      ],
      "execution_count": 0,
      "outputs": []
    },
    {
      "metadata": {
        "id": "oM0N-dlJtyN-",
        "colab_type": "code",
        "colab": {}
      },
      "cell_type": "code",
      "source": [
        "import random,timeit,sys"
      ],
      "execution_count": 0,
      "outputs": []
    },
    {
      "metadata": {
        "id": "PCeQy09kv8c8",
        "colab_type": "text"
      },
      "cell_type": "markdown",
      "source": [
        "\n",
        "\n",
        "---\n",
        "\n",
        "\n",
        "### Mulitplying two lists element-wise"
      ]
    },
    {
      "metadata": {
        "id": "mFSn7DA0sYoe",
        "colab_type": "code",
        "colab": {}
      },
      "cell_type": "code",
      "source": [
        "a_list = [random.uniform(0,1) for _ in range(20)]\n",
        "b_list = [random.uniform(0,1) for _ in range(20)]"
      ],
      "execution_count": 0,
      "outputs": []
    },
    {
      "metadata": {
        "id": "S8-5Ww0fuRyx",
        "colab_type": "code",
        "colab": {}
      },
      "cell_type": "code",
      "source": [
        "%%timeit\n",
        "c_list = []\n",
        "for i in range(len(a_list)):\n",
        "    c_list.append(a_list[i]*b_list[i])\n"
      ],
      "execution_count": 0,
      "outputs": []
    },
    {
      "metadata": {
        "id": "CiBuw_9zwA7A",
        "colab_type": "text"
      },
      "cell_type": "markdown",
      "source": [
        "\n",
        "\n",
        "---\n",
        "\n",
        "### Mulitplying two numpy arrays element-wise"
      ]
    },
    {
      "metadata": {
        "id": "Mmuvy-hc1LLI",
        "colab_type": "code",
        "colab": {}
      },
      "cell_type": "code",
      "source": [
        "a = np.asarray(a_list)\n",
        "b = np.asarray(b_list)\n",
        "c = np.zeros((20,))"
      ],
      "execution_count": 0,
      "outputs": []
    },
    {
      "metadata": {
        "id": "LoGpmXdpsjEa",
        "colab_type": "code",
        "colab": {}
      },
      "cell_type": "code",
      "source": [
        "%%timeit\n",
        "for i in range(len(a)):\n",
        "  c[i] = a[i]*b[i]"
      ],
      "execution_count": 0,
      "outputs": []
    },
    {
      "metadata": {
        "id": "vtnSZ2hs0hW-",
        "colab_type": "code",
        "colab": {}
      },
      "cell_type": "code",
      "source": [
        "print(c)"
      ],
      "execution_count": 0,
      "outputs": []
    },
    {
      "metadata": {
        "id": "ZLDe_2iS0V_B",
        "colab_type": "text"
      },
      "cell_type": "markdown",
      "source": [
        "# Motivation to use Numpy\n",
        "\n",
        "- Why learn numpy, since it is slower than pure python (as can be seen above)? \n",
        "- Why is Numpy version slower?\n",
        "\n",
        "<center>\n",
        "  \n",
        "**Because creation of a numpy array is slower than creation of a similar sized python list**\n",
        "  \n",
        "</center>"
      ]
    },
    {
      "metadata": {
        "id": "TaOCcqDGOnE1",
        "colab_type": "code",
        "colab": {}
      },
      "cell_type": "code",
      "source": [
        "%timeit a = [[2,3,5],[3,6,2],[1,3,2]]"
      ],
      "execution_count": 0,
      "outputs": []
    },
    {
      "metadata": {
        "id": "4MqDAdYCOtr0",
        "colab_type": "code",
        "colab": {}
      },
      "cell_type": "code",
      "source": [
        "%timeit a = np.array([[2,3,5],[3,6,2],[1,3,2]])"
      ],
      "execution_count": 0,
      "outputs": []
    },
    {
      "metadata": {
        "id": "g6EDnlAsPS6x",
        "colab_type": "text"
      },
      "cell_type": "markdown",
      "source": [
        "## Why use numpy ?"
      ]
    },
    {
      "metadata": {
        "id": "btroTOtzJrD8",
        "colab_type": "text"
      },
      "cell_type": "markdown",
      "source": [
        "1. Numpy arrays are **densely packed** arrays of homogeneous type.\n",
        "2. Python lists, by contrast, are arrays of pointers to **objects**, even when all of them are of the same type(in our case - numeric data). So, you get the benefits of **locality of reference**.\n",
        "3. Also, most Numpy operations are implemented in C, avoiding the general cost of loops in Python, pointer indirection and per-element dynamic type checking. **(BLAS)**\n",
        "4. The NumPy arrays takes **significantly less amount of memory** as compared to python lists. It also provides a mechanism of specifying the data types of the contents, which allows further optimisation of the code.\n",
        "\n",
        "> The speed boost depends on which operations you're performing, but a few orders of magnitude isn't uncommon in number crunching programs.\n",
        "\n",
        "https://stackoverflow.com/a/8385658/6922149"
      ]
    },
    {
      "metadata": {
        "id": "ktHTTr8wP-Zi",
        "colab_type": "text"
      },
      "cell_type": "markdown",
      "source": [
        "### What are BLAS ?\n",
        "\n",
        "**Basic Linear Algebra Sub-programs** : a set of precompiled low-level routines for performing common linear algebra operations such as vector addition, scalar multiplication, dot products, linear combinations, and matrix multiplication.\n",
        "\n",
        "In the above element-wise multiplication was done by a BLAS not by python code."
      ]
    },
    {
      "metadata": {
        "id": "rLiKU-Nq0dkq",
        "colab_type": "code",
        "colab": {}
      },
      "cell_type": "code",
      "source": [
        "# pure python can't beat this\n",
        "\n",
        "%%timeit\n",
        "c = a*b"
      ],
      "execution_count": 0,
      "outputs": []
    },
    {
      "metadata": {
        "id": "zDAwPnheKgo3",
        "colab_type": "text"
      },
      "cell_type": "markdown",
      "source": [
        "### Numpy is more space efficient"
      ]
    },
    {
      "metadata": {
        "id": "8iKIRMjHKgEp",
        "colab_type": "code",
        "colab": {}
      },
      "cell_type": "code",
      "source": [
        "py_list = [1,2,3,4,5,6]\n",
        "numpy_arr = np.array([1,2,3,4,5,6])\n",
        "\n",
        "sizeof_py_list = sys.getsizeof(1) * len(py_list)           # Size = 168\n",
        "sizeof_numpy_arr = numpy_arr.itemsize * numpy_arr.size   # Size = 48\n",
        "print(\"size of list = \",sizeof_py_list)\n",
        "print(\"Size of numpy array = \",sizeof_numpy_arr)"
      ],
      "execution_count": 0,
      "outputs": []
    },
    {
      "metadata": {
        "id": "OCu9s-a5MXr2",
        "colab_type": "text"
      },
      "cell_type": "markdown",
      "source": [
        "### HENCE\n",
        "\n",
        "1. Numpy is more space efficient than python lists\n",
        "2. Numpy is faster for mathematical operations because of BLAS."
      ]
    },
    {
      "metadata": {
        "id": "guObusFwINch",
        "colab_type": "text"
      },
      "cell_type": "markdown",
      "source": [
        "## When to use Numpy ?"
      ]
    },
    {
      "metadata": {
        "id": "VlRdUcnZJuEQ",
        "colab_type": "text"
      },
      "cell_type": "markdown",
      "source": [
        "- Numpy shines when you setup the arrays once.\n",
        "And then perform a lot of mathematical calculations on them.\n",
        "- It is because numpy uses BLAS to speed up matrix operations via vectorisation\n",
        "- It may fail to outperform pure Python *if the arrays are small* because **the setup cost** can outweigh **the benefit of offloading the calculations to compiled C/Fortran functions(BLAS)**.\n",
        "\n",
        "<center>\n",
        "  \n",
        "  <h2>Which is almost always the case with Machine Learning Solutions</h2>\n",
        "\n",
        "</center>"
      ]
    },
    {
      "metadata": {
        "id": "UDLLfBkOBrsv",
        "colab_type": "text"
      },
      "cell_type": "markdown",
      "source": [
        "# Basics of NumPy"
      ]
    },
    {
      "metadata": {
        "id": "hguAKb8LsC6K",
        "colab_type": "text"
      },
      "cell_type": "markdown",
      "source": [
        "## The ndarray object\n",
        "\n",
        "The core datatype of numpy.\n",
        "\n",
        "<center>\n",
        "\n",
        "An ndarray is a (usually fixed-size) multidimensional **container** of items of the **same data type** and size\n",
        "\n",
        "![alt text](https://www.tutorialspoint.com/numpy/images/ndarray.jpg)\n",
        "  \n",
        " </center>"
      ]
    },
    {
      "metadata": {
        "id": "pG84jMwCpAgH",
        "colab_type": "code",
        "cellView": "both",
        "colab": {}
      },
      "cell_type": "code",
      "source": [
        "help(np.ndarray)"
      ],
      "execution_count": 0,
      "outputs": []
    },
    {
      "metadata": {
        "id": "zt5TR_2OTAUp",
        "colab_type": "text"
      },
      "cell_type": "markdown",
      "source": [
        "# Basic array operations"
      ]
    },
    {
      "metadata": {
        "id": "J3Tozh3uOh6B",
        "colab_type": "text"
      },
      "cell_type": "markdown",
      "source": [
        "## Creating Arrays"
      ]
    },
    {
      "metadata": {
        "id": "wEb_RcPiSxs7",
        "colab_type": "text"
      },
      "cell_type": "markdown",
      "source": [
        "### From list/tuple"
      ]
    },
    {
      "metadata": {
        "id": "Vh3ilzfLS0cp",
        "colab_type": "code",
        "colab": {}
      },
      "cell_type": "code",
      "source": [
        "np.array([1,2,3,4])"
      ],
      "execution_count": 0,
      "outputs": []
    },
    {
      "metadata": {
        "id": "Y0fUuiBLS5Mc",
        "colab_type": "code",
        "colab": {}
      },
      "cell_type": "code",
      "source": [
        "this_list = [8,90,23,98]\n",
        "np.asarray(this_list)"
      ],
      "execution_count": 0,
      "outputs": []
    },
    {
      "metadata": {
        "id": "VcxAUwegTDPp",
        "colab_type": "code",
        "colab": {}
      },
      "cell_type": "code",
      "source": [
        "this_tuple = (56,23,56,78,90)\n",
        "np.asarray(this_tuple)"
      ],
      "execution_count": 0,
      "outputs": []
    },
    {
      "metadata": {
        "id": "UGagNX3-SmJT",
        "colab_type": "text"
      },
      "cell_type": "markdown",
      "source": [
        "### Equi-spaced numbers"
      ]
    },
    {
      "metadata": {
        "id": "2uBMexUmOkGa",
        "colab_type": "code",
        "colab": {}
      },
      "cell_type": "code",
      "source": [
        "np.arange(10)"
      ],
      "execution_count": 0,
      "outputs": []
    },
    {
      "metadata": {
        "id": "ShBGwjK9Omzd",
        "colab_type": "code",
        "colab": {}
      },
      "cell_type": "code",
      "source": [
        "np.arange(1,10)"
      ],
      "execution_count": 0,
      "outputs": []
    },
    {
      "metadata": {
        "id": "6X5Ga0rOP4TQ",
        "colab_type": "code",
        "colab": {}
      },
      "cell_type": "code",
      "source": [
        "np.arange(1,10,2)"
      ],
      "execution_count": 0,
      "outputs": []
    },
    {
      "metadata": {
        "id": "GMA3Z0LtPJcs",
        "colab_type": "code",
        "colab": {}
      },
      "cell_type": "code",
      "source": [
        "np.arange(start=1,stop=10,step=2.25)\n",
        "#np.arange(start,stop, step)\n",
        "\n",
        "# stop is excluded"
      ],
      "execution_count": 0,
      "outputs": []
    },
    {
      "metadata": {
        "id": "hPWgW4VBPYb7",
        "colab_type": "code",
        "colab": {}
      },
      "cell_type": "code",
      "source": [
        "np.linspace(start=1,stop=10,num=5)"
      ],
      "execution_count": 0,
      "outputs": []
    },
    {
      "metadata": {
        "id": "DSrsQaSXSqfB",
        "colab_type": "text"
      },
      "cell_type": "markdown",
      "source": [
        "### Random arrays"
      ]
    },
    {
      "metadata": {
        "id": "BhBgJ80EOqkd",
        "colab_type": "code",
        "colab": {}
      },
      "cell_type": "code",
      "source": [
        "np.random.rand(5,2)"
      ],
      "execution_count": 0,
      "outputs": []
    },
    {
      "metadata": {
        "id": "Hda3hQ0hO4oT",
        "colab_type": "code",
        "colab": {}
      },
      "cell_type": "code",
      "source": [
        "np.random.randn(5,2)"
      ],
      "execution_count": 0,
      "outputs": []
    },
    {
      "metadata": {
        "id": "922nowcPSujV",
        "colab_type": "text"
      },
      "cell_type": "markdown",
      "source": [
        "### Standard arrays"
      ]
    },
    {
      "metadata": {
        "id": "Ps5UE_ocROzr",
        "colab_type": "code",
        "colab": {}
      },
      "cell_type": "code",
      "source": [
        "np.eye(7)"
      ],
      "execution_count": 0,
      "outputs": []
    },
    {
      "metadata": {
        "id": "hOd8rPnXRRbM",
        "colab_type": "code",
        "colab": {}
      },
      "cell_type": "code",
      "source": [
        "np.identity(7)"
      ],
      "execution_count": 0,
      "outputs": []
    },
    {
      "metadata": {
        "id": "d1eC77QbRbWX",
        "colab_type": "code",
        "colab": {}
      },
      "cell_type": "code",
      "source": [
        "np.zeros(12)"
      ],
      "execution_count": 0,
      "outputs": []
    },
    {
      "metadata": {
        "id": "YecNl5gbRqu8",
        "colab_type": "code",
        "colab": {}
      },
      "cell_type": "code",
      "source": [
        "np.zeros((3,4))"
      ],
      "execution_count": 0,
      "outputs": []
    },
    {
      "metadata": {
        "id": "esfwUhqnRvJJ",
        "colab_type": "code",
        "colab": {}
      },
      "cell_type": "code",
      "source": [
        "np.ones(12)"
      ],
      "execution_count": 0,
      "outputs": []
    },
    {
      "metadata": {
        "id": "lBvu5TBMR0ps",
        "colab_type": "code",
        "colab": {}
      },
      "cell_type": "code",
      "source": [
        "np.ones((3,4))"
      ],
      "execution_count": 0,
      "outputs": []
    },
    {
      "metadata": {
        "id": "rklOlRxyOKYh",
        "colab_type": "text"
      },
      "cell_type": "markdown",
      "source": [
        "## Accessing array elements\n",
        "\n",
        "**Array indices start at 0**"
      ]
    },
    {
      "metadata": {
        "id": "78gHjQuBTCkl",
        "colab_type": "code",
        "colab": {}
      },
      "cell_type": "code",
      "source": [
        "my_array = np.arange(100,0,-1)\n",
        "\n",
        "print(my_array)\n",
        "print(\"\\nArray Shape is \",my_array.shape)"
      ],
      "execution_count": 0,
      "outputs": []
    },
    {
      "metadata": {
        "id": "XSpcD9hLTUvd",
        "colab_type": "text"
      },
      "cell_type": "markdown",
      "source": [
        "### Single Element"
      ]
    },
    {
      "metadata": {
        "id": "SxkgqQ3tNsH1",
        "colab_type": "code",
        "colab": {}
      },
      "cell_type": "code",
      "source": [
        "my_array[23]  #This gives us the value of element at index 23"
      ],
      "execution_count": 0,
      "outputs": []
    },
    {
      "metadata": {
        "id": "IhLgZQPHTZxA",
        "colab_type": "text"
      },
      "cell_type": "markdown",
      "source": [
        "### Multiple Elements (array slicing)"
      ]
    },
    {
      "metadata": {
        "id": "wCHkEQf7TbTZ",
        "colab_type": "code",
        "colab": {}
      },
      "cell_type": "code",
      "source": [
        "my_array[10:15]\n",
        "# 10,11,12,13,14."
      ],
      "execution_count": 0,
      "outputs": []
    },
    {
      "metadata": {
        "id": "HI0IedeWb5RZ",
        "colab_type": "code",
        "colab": {}
      },
      "cell_type": "code",
      "source": [
        "my_array[50:]"
      ],
      "execution_count": 0,
      "outputs": []
    },
    {
      "metadata": {
        "id": "-dOaDPTbb9Hs",
        "colab_type": "code",
        "colab": {}
      },
      "cell_type": "code",
      "source": [
        "my_array[:50]"
      ],
      "execution_count": 0,
      "outputs": []
    },
    {
      "metadata": {
        "id": "bhAGTVOwTnwf",
        "colab_type": "text"
      },
      "cell_type": "markdown",
      "source": [
        "### Max Element"
      ]
    },
    {
      "metadata": {
        "id": "tEgc1DeVTpPC",
        "colab_type": "code",
        "colab": {}
      },
      "cell_type": "code",
      "source": [
        "# Value \n",
        "my_array.max()"
      ],
      "execution_count": 0,
      "outputs": []
    },
    {
      "metadata": {
        "id": "OyRPPiIGUiTy",
        "colab_type": "code",
        "colab": {}
      },
      "cell_type": "code",
      "source": [
        "# Index\n",
        "my_array.argmax()"
      ],
      "execution_count": 0,
      "outputs": []
    },
    {
      "metadata": {
        "id": "-mczUgINUDHP",
        "colab_type": "text"
      },
      "cell_type": "markdown",
      "source": [
        "### Min Element"
      ]
    },
    {
      "metadata": {
        "id": "AVCaTNGWUAvY",
        "colab_type": "code",
        "colab": {}
      },
      "cell_type": "code",
      "source": [
        "# Value\n",
        "my_array.min()"
      ],
      "execution_count": 0,
      "outputs": []
    },
    {
      "metadata": {
        "id": "TW1hnwRqUCaG",
        "colab_type": "code",
        "colab": {}
      },
      "cell_type": "code",
      "source": [
        "# Index\n",
        "my_array.argmin()"
      ],
      "execution_count": 0,
      "outputs": []
    },
    {
      "metadata": {
        "id": "aa1Szjpceu6c",
        "colab_type": "text"
      },
      "cell_type": "markdown",
      "source": [
        "### Slicing on higher dimension arrays"
      ]
    },
    {
      "metadata": {
        "id": "95vEciWWe02n",
        "colab_type": "code",
        "colab": {}
      },
      "cell_type": "code",
      "source": [
        "two_d_arr = np.array([[10,20,30], [40,50,60], [70,80,90]])\n",
        "two_d_arr"
      ],
      "execution_count": 0,
      "outputs": []
    },
    {
      "metadata": {
        "id": "nr2PAz3ne4QR",
        "colab_type": "code",
        "colab": {}
      },
      "cell_type": "code",
      "source": [
        "two_d_arr[1][2] #The value 60 appears is in row index 1, and column index 2"
      ],
      "execution_count": 0,
      "outputs": []
    },
    {
      "metadata": {
        "id": "iIyucF6De8g5",
        "colab_type": "code",
        "colab": {}
      },
      "cell_type": "code",
      "source": [
        "two_d_arr[0,1]"
      ],
      "execution_count": 0,
      "outputs": []
    },
    {
      "metadata": {
        "id": "3ral_K5hfAiD",
        "colab_type": "code",
        "colab": {}
      },
      "cell_type": "code",
      "source": [
        "two_d_arr[:1, :2]           # This returns [[10, 20]]\n",
        "two_d_arr[:2, 1:]           # This returns ([[20, 30], [50, 60]])\n",
        "two_d_arr[:2, :2]           #This returns ([[10, 20], [40, 50]])"
      ],
      "execution_count": 0,
      "outputs": []
    },
    {
      "metadata": {
        "id": "xDZQxL4kgMYU",
        "colab_type": "text"
      },
      "cell_type": "markdown",
      "source": [
        "## Concatenating Two Arrays\n",
        "\n",
        "But first let's see what is an Axis (Plural Axes) :\n",
        ">Axes are defined for arrays with more than one dimension.\n",
        "A 2-dimensional array has two corresponding axes:\n",
        "1. The first running vertically downwards across rows (axis 0)\n",
        "2. The second running horizontally across columns (axis 1).\n",
        "\n",
        "**Always think of axes as directions**\n",
        "\n"
      ]
    },
    {
      "metadata": {
        "id": "B62kYtlVhYKY",
        "colab_type": "code",
        "colab": {}
      },
      "cell_type": "code",
      "source": [
        "# summing across axis=1\n",
        "x = np.arange(12).reshape((3,4))\n",
        "print(x)"
      ],
      "execution_count": 0,
      "outputs": []
    },
    {
      "metadata": {
        "id": "mX7d_a3rhkVS",
        "colab_type": "code",
        "colab": {}
      },
      "cell_type": "code",
      "source": [
        "x.sum(axis=0)"
      ],
      "execution_count": 0,
      "outputs": []
    },
    {
      "metadata": {
        "id": "OIvL-DJshrbZ",
        "colab_type": "code",
        "colab": {}
      },
      "cell_type": "code",
      "source": [
        "x.sum(axis=1)"
      ],
      "execution_count": 0,
      "outputs": []
    },
    {
      "metadata": {
        "id": "OpOJM5tihyrO",
        "colab_type": "code",
        "colab": {}
      },
      "cell_type": "code",
      "source": [
        "# Concatenating a,b\n",
        "\n",
        "a = np.array([[1, 2],\n",
        "              [3, 4]])\n",
        "\n",
        "b = np.array([[5, 6]])"
      ],
      "execution_count": 0,
      "outputs": []
    },
    {
      "metadata": {
        "id": "Ep-R288Eh9gu",
        "colab_type": "code",
        "colab": {}
      },
      "cell_type": "code",
      "source": [
        "np.concatenate((a, b), axis=0)"
      ],
      "execution_count": 0,
      "outputs": []
    },
    {
      "metadata": {
        "id": "jNTsk47jiLfo",
        "colab_type": "code",
        "colab": {}
      },
      "cell_type": "code",
      "source": [
        "np.concatenate((a, b.T), axis=1)"
      ],
      "execution_count": 0,
      "outputs": []
    },
    {
      "metadata": {
        "id": "MU5qHDFwiM6X",
        "colab_type": "code",
        "colab": {}
      },
      "cell_type": "code",
      "source": [
        "# axis = None will first flatten both the arrays and concat them\n",
        "np.concatenate((a, b), axis=None)\n",
        "\n",
        "# see yourself : np.array_split"
      ],
      "execution_count": 0,
      "outputs": []
    },
    {
      "metadata": {
        "id": "vRL4SQwdXtr5",
        "colab_type": "text"
      },
      "cell_type": "markdown",
      "source": [
        "## TypeCasting an array"
      ]
    },
    {
      "metadata": {
        "id": "W9DoBQ2tbBXl",
        "colab_type": "code",
        "colab": {}
      },
      "cell_type": "code",
      "source": [
        "float_array = np.array([1.4,7.2,3.2,6.9])"
      ],
      "execution_count": 0,
      "outputs": []
    },
    {
      "metadata": {
        "id": "LsbIc61BbJgs",
        "colab_type": "code",
        "colab": {}
      },
      "cell_type": "code",
      "source": [
        "float_array.astype(np.int64)"
      ],
      "execution_count": 0,
      "outputs": []
    },
    {
      "metadata": {
        "id": "uxpQ3SuIV4-F",
        "colab_type": "text"
      },
      "cell_type": "markdown",
      "source": [
        "## Array Attributes"
      ]
    },
    {
      "metadata": {
        "id": "1tbJBxrlWYA_",
        "colab_type": "code",
        "colab": {}
      },
      "cell_type": "code",
      "source": [
        "my_array.dtype"
      ],
      "execution_count": 0,
      "outputs": []
    },
    {
      "metadata": {
        "id": "ckygNd8vWiKV",
        "colab_type": "code",
        "colab": {}
      },
      "cell_type": "code",
      "source": [
        "my_array.shape"
      ],
      "execution_count": 0,
      "outputs": []
    },
    {
      "metadata": {
        "id": "rqQn6OLPWj5b",
        "colab_type": "code",
        "colab": {}
      },
      "cell_type": "code",
      "source": [
        "my_array.size"
      ],
      "execution_count": 0,
      "outputs": []
    },
    {
      "metadata": {
        "id": "UDdbLnTRWrDb",
        "colab_type": "code",
        "colab": {}
      },
      "cell_type": "code",
      "source": [
        "my_array.ndim"
      ],
      "execution_count": 0,
      "outputs": []
    },
    {
      "metadata": {
        "id": "4A7Y_N5lcVrZ",
        "colab_type": "text"
      },
      "cell_type": "markdown",
      "source": [
        "## Reshaping an Array"
      ]
    },
    {
      "metadata": {
        "id": "aCMIZa1qWzo8",
        "colab_type": "code",
        "colab": {}
      },
      "cell_type": "code",
      "source": [
        "new_arr = my_array.reshape(10,10)\n",
        "# creates a new array with shape (10,10) made from my_array\n",
        "# doesn't alter my_array in any way"
      ],
      "execution_count": 0,
      "outputs": []
    },
    {
      "metadata": {
        "id": "LIP6ky5VnNEE",
        "colab_type": "code",
        "colab": {}
      },
      "cell_type": "code",
      "source": [
        "my_array"
      ],
      "execution_count": 0,
      "outputs": []
    },
    {
      "metadata": {
        "id": "krpn4tE6nJyc",
        "colab_type": "code",
        "colab": {}
      },
      "cell_type": "code",
      "source": [
        "new_arr.shape"
      ],
      "execution_count": 0,
      "outputs": []
    },
    {
      "metadata": {
        "id": "RpBYGJ45mkPR",
        "colab_type": "code",
        "colab": {}
      },
      "cell_type": "code",
      "source": [
        "new_arr.reshape(new_arr.shape[0],-1)\n",
        "# when -1 is supplied as a shape, numpy automatically understands that only first shape is to maintained and rest elements are to be laid"
      ],
      "execution_count": 0,
      "outputs": []
    },
    {
      "metadata": {
        "id": "asB3LGAroFZg",
        "colab_type": "code",
        "colab": {}
      },
      "cell_type": "code",
      "source": [
        "new_arr.reshape(4,-1)"
      ],
      "execution_count": 0,
      "outputs": []
    },
    {
      "metadata": {
        "id": "kg9tx1ZmoRpa",
        "colab_type": "code",
        "colab": {}
      },
      "cell_type": "code",
      "source": [
        "# straigtens the array into a single row vector\n",
        "new_arr.ravel()"
      ],
      "execution_count": 0,
      "outputs": []
    },
    {
      "metadata": {
        "id": "MCXm14OccgHR",
        "colab_type": "text"
      },
      "cell_type": "markdown",
      "source": [
        "## Arithmetic Operations\n",
        "\n",
        "\n",
        "- Operator overloading internally implemented\n",
        "- Mostly all arithmetic operations are done elementwise"
      ]
    },
    {
      "metadata": {
        "id": "wXNKdscmWycx",
        "colab_type": "code",
        "colab": {}
      },
      "cell_type": "code",
      "source": [
        "a = np.array([[3,2,1],[4,50,6],[7,8,9]])\n",
        "b = np.array([[1,1,1],[-1,-1,-1],[10,10,10]])"
      ],
      "execution_count": 0,
      "outputs": []
    },
    {
      "metadata": {
        "id": "JOxeWwzHclDl",
        "colab_type": "code",
        "colab": {}
      },
      "cell_type": "code",
      "source": [
        "print(\"\\nMultiplication \\n\",  a * b    )\n",
        "print(\"\\nAddition\\n\",         a + b    )\n",
        "print(\"\\nSubtraction\\n\",      a - b    )\n",
        "print(\"\\nDivision\\n\",         a / b    )\n",
        "print(\"\\nLog (base 10)\\n\",    np.log(a))"
      ],
      "execution_count": 0,
      "outputs": []
    },
    {
      "metadata": {
        "id": "xyfSNbS6oEZc",
        "colab_type": "code",
        "colab": {}
      },
      "cell_type": "code",
      "source": [
        ""
      ],
      "execution_count": 0,
      "outputs": []
    },
    {
      "metadata": {
        "id": "bqZGzvuHklo9",
        "colab_type": "text"
      },
      "cell_type": "markdown",
      "source": [
        "## Comparision operators on numpy arrays\n",
        "\n",
        "- Returns a boolean array of same shape as the original array\n",
        "- The comparision is applied **elementwise**"
      ]
    },
    {
      "metadata": {
        "id": "XGirmvwzkQ4J",
        "colab_type": "code",
        "colab": {}
      },
      "cell_type": "code",
      "source": [
        "my_array > 20"
      ],
      "execution_count": 0,
      "outputs": []
    },
    {
      "metadata": {
        "id": "v8631h5bkI9R",
        "colab_type": "text"
      },
      "cell_type": "markdown",
      "source": [
        "## Statistical operations"
      ]
    },
    {
      "metadata": {
        "id": "VfqUkylGZcgE",
        "colab_type": "code",
        "colab": {}
      },
      "cell_type": "code",
      "source": [
        "# sum of all elements\n",
        "np.sum(a)"
      ],
      "execution_count": 0,
      "outputs": []
    },
    {
      "metadata": {
        "id": "qmBgrZgJaDdv",
        "colab_type": "code",
        "colab": {}
      },
      "cell_type": "code",
      "source": [
        "# same as above (returns sum of all elements)\n",
        "a.sum()"
      ],
      "execution_count": 0,
      "outputs": []
    },
    {
      "metadata": {
        "id": "Mj45Fv4SZ_f2",
        "colab_type": "code",
        "colab": {}
      },
      "cell_type": "code",
      "source": [
        "# std deviation\n",
        "np.std(a)"
      ],
      "execution_count": 0,
      "outputs": []
    },
    {
      "metadata": {
        "id": "Do9m3a8QmN_h",
        "colab_type": "code",
        "colab": {}
      },
      "cell_type": "code",
      "source": [
        "np.mean(a)"
      ],
      "execution_count": 0,
      "outputs": []
    },
    {
      "metadata": {
        "id": "FyQYSsxhmPxG",
        "colab_type": "code",
        "colab": {}
      },
      "cell_type": "code",
      "source": [
        "np.median(a)"
      ],
      "execution_count": 0,
      "outputs": []
    },
    {
      "metadata": {
        "id": "FvM7ZNvwWGKM",
        "colab_type": "text"
      },
      "cell_type": "markdown",
      "source": [
        "# Matrix Operations"
      ]
    },
    {
      "metadata": {
        "id": "cNecT5didjFk",
        "colab_type": "text"
      },
      "cell_type": "markdown",
      "source": [
        "## Matrix Multiplication"
      ]
    },
    {
      "metadata": {
        "id": "D-GzbcpjWIZ3",
        "colab_type": "code",
        "colab": {}
      },
      "cell_type": "code",
      "source": [
        "# mathematical matrix multiplication\n",
        "np.dot(a,b)"
      ],
      "execution_count": 0,
      "outputs": []
    },
    {
      "metadata": {
        "id": "Xkj8KZHsdmvL",
        "colab_type": "text"
      },
      "cell_type": "markdown",
      "source": [
        "## Matrix Transpose"
      ]
    },
    {
      "metadata": {
        "id": "Nw9bqL-PcmeZ",
        "colab_type": "code",
        "colab": {}
      },
      "cell_type": "code",
      "source": [
        "# Transpose\n",
        "a.T"
      ],
      "execution_count": 0,
      "outputs": []
    },
    {
      "metadata": {
        "id": "2vpY0YZYdoqR",
        "colab_type": "text"
      },
      "cell_type": "markdown",
      "source": [
        "## Determinant, Inverse.....\n",
        "\n",
        "- Lots of other inbuilt methods in **np.linalg library**"
      ]
    },
    {
      "metadata": {
        "id": "MMzCl2JFcXlY",
        "colab_type": "code",
        "colab": {}
      },
      "cell_type": "code",
      "source": [
        "# Determinant\n",
        "np.linalg.det(a)"
      ],
      "execution_count": 0,
      "outputs": []
    },
    {
      "metadata": {
        "id": "zXYGxZu2bpXJ",
        "colab_type": "code",
        "colab": {}
      },
      "cell_type": "code",
      "source": [
        "# Inverse of a matrix\n",
        "np.linalg.inv(a)"
      ],
      "execution_count": 0,
      "outputs": []
    },
    {
      "metadata": {
        "id": "KlGNhBwicl3O",
        "colab_type": "text"
      },
      "cell_type": "markdown",
      "source": [
        "#Broadcasting\n",
        "\n",
        "- Broadcasting describes how numpy treats **arrays with different shapes during arithmetic operations.**\n",
        "- Subject to **certain constraints**\n",
        "    + the **smaller array is “broadcast” across the larger array** so that they have compatible shapes.\n",
        "- Provides a means of **vectorizing array operations so that looping occurs in C instead of Python.**\n",
        "- It does this **without making needless copies of data** and usually leads to efficient algorithm implementations.\n",
        "- There are, however, cases where broadcasting is a bad idea because it leads to inefficient use of memory that slows computation."
      ]
    },
    {
      "metadata": {
        "id": "AI4hyPcUcnuB",
        "colab_type": "code",
        "colab": {}
      },
      "cell_type": "code",
      "source": [
        "a = np.array([[0.0,0.0,0.0],\n",
        "              [10.0,10.0,10.0],\n",
        "              [20.0,20.0,20.0],\n",
        "              [30.0,30.0,30.0]]) \n",
        "b = np.array([1.0,2.0,3.0])"
      ],
      "execution_count": 0,
      "outputs": []
    },
    {
      "metadata": {
        "id": "_LWIqEbNebTF",
        "colab_type": "code",
        "colab": {}
      },
      "cell_type": "code",
      "source": [
        "# b is broadcasted on a\n",
        "a + b"
      ],
      "execution_count": 0,
      "outputs": []
    },
    {
      "metadata": {
        "id": "cmA9mdZopO4q",
        "colab_type": "text"
      },
      "cell_type": "markdown",
      "source": [
        "# Additionally lookup the following\n",
        "\n",
        "1. np.nonzero(), np.count_nonzero()\n",
        "2. np.where()\n",
        "3. creating numpy array from csv file np.genfromtxt()"
      ]
    },
    {
      "metadata": {
        "id": "vvhEdN7Pd7gh",
        "colab_type": "text"
      },
      "cell_type": "markdown",
      "source": [
        "---\n",
        "\n",
        "Authored By [Dipunj Gupta](https://github.com/dipunj) | Report errors/typos as github issues.\n",
        "\n",
        "---"
      ]
    }
  ]
}